{
  "nbformat": 4,
  "nbformat_minor": 0,
  "metadata": {
    "colab": {
      "name": "Numpy.ipynb",
      "provenance": []
    },
    "kernelspec": {
      "name": "python3",
      "display_name": "Python 3"
    },
    "language_info": {
      "name": "python"
    }
  },
  "cells": [
    {
      "cell_type": "code",
      "execution_count": null,
      "metadata": {
        "id": "AKb4RifvaXTA"
      },
      "outputs": [],
      "source": [
        "import numpy as np"
      ]
    },
    {
      "cell_type": "code",
      "source": [
        "age_list=[10,5,8,32,65,43]"
      ],
      "metadata": {
        "id": "q5OTSXH0aqZk"
      },
      "execution_count": null,
      "outputs": []
    },
    {
      "cell_type": "code",
      "source": [
        "print (age_list)"
      ],
      "metadata": {
        "colab": {
          "base_uri": "https://localhost:8080/"
        },
        "id": "Pmp9x6OBa3BK",
        "outputId": "21a9a585-eebc-44ea-a857-3b95f4f12da1"
      },
      "execution_count": null,
      "outputs": [
        {
          "output_type": "stream",
          "name": "stdout",
          "text": [
            "[10, 5, 8, 32, 65, 43]\n"
          ]
        }
      ]
    },
    {
      "cell_type": "code",
      "source": [
        "age=np.array(age_list)\n",
        "print(type(age))\n",
        "print(age)"
      ],
      "metadata": {
        "colab": {
          "base_uri": "https://localhost:8080/"
        },
        "id": "iYUHCgMPa42h",
        "outputId": "e40a19d4-2763-4182-dfe9-8d78443846ef"
      },
      "execution_count": null,
      "outputs": [
        {
          "output_type": "stream",
          "name": "stdout",
          "text": [
            "<class 'numpy.ndarray'>\n",
            "[10  5  8 32 65 43]\n"
          ]
        }
      ]
    },
    {
      "cell_type": "code",
      "source": [
        "age.dtype"
      ],
      "metadata": {
        "colab": {
          "base_uri": "https://localhost:8080/"
        },
        "id": "z9WcnC2eb7yh",
        "outputId": "6bd5dba7-9ab2-420f-b664-9755052505c7"
      },
      "execution_count": null,
      "outputs": [
        {
          "output_type": "execute_result",
          "data": {
            "text/plain": [
              "dtype('int64')"
            ]
          },
          "metadata": {},
          "execution_count": 8
        }
      ]
    },
    {
      "cell_type": "code",
      "source": [
        "age.size"
      ],
      "metadata": {
        "colab": {
          "base_uri": "https://localhost:8080/"
        },
        "id": "xk65l6JqcLNM",
        "outputId": "d5545cfa-1b73-44ab-fcb0-ca6ff4e55b9f"
      },
      "execution_count": null,
      "outputs": [
        {
          "output_type": "execute_result",
          "data": {
            "text/plain": [
              "6"
            ]
          },
          "metadata": {},
          "execution_count": 9
        }
      ]
    },
    {
      "cell_type": "code",
      "source": [
        "age.shape"
      ],
      "metadata": {
        "colab": {
          "base_uri": "https://localhost:8080/"
        },
        "id": "FoNotU9TcbpC",
        "outputId": "ed9b1ab6-4d56-42aa-b1ce-45111ac5c3d0"
      },
      "execution_count": null,
      "outputs": [
        {
          "output_type": "execute_result",
          "data": {
            "text/plain": [
              "(6,)"
            ]
          },
          "metadata": {},
          "execution_count": 10
        }
      ]
    },
    {
      "cell_type": "code",
      "source": [
        "arr=np.zeros(5)\n",
        "arr"
      ],
      "metadata": {
        "colab": {
          "base_uri": "https://localhost:8080/"
        },
        "id": "P5j0TcjpcfOs",
        "outputId": "e4bbf789-ff39-4151-ccba-fb60c4d03630"
      },
      "execution_count": null,
      "outputs": [
        {
          "output_type": "execute_result",
          "data": {
            "text/plain": [
              "array([0., 0., 0., 0., 0.])"
            ]
          },
          "metadata": {},
          "execution_count": 13
        }
      ]
    },
    {
      "cell_type": "code",
      "source": [
        "arr=np.zeros((2,5))\n",
        "arr"
      ],
      "metadata": {
        "colab": {
          "base_uri": "https://localhost:8080/"
        },
        "id": "aysSOKzJctDd",
        "outputId": "f3db9ac7-34a9-4251-b42e-2ed4763056d7"
      },
      "execution_count": null,
      "outputs": [
        {
          "output_type": "execute_result",
          "data": {
            "text/plain": [
              "array([[0., 0., 0., 0., 0.],\n",
              "       [0., 0., 0., 0., 0.]])"
            ]
          },
          "metadata": {},
          "execution_count": 15
        }
      ]
    },
    {
      "cell_type": "markdown",
      "source": [
        "Multi Dim"
      ],
      "metadata": {
        "id": "SrmpdXMbdtOp"
      }
    },
    {
      "cell_type": "code",
      "source": [
        "weight_list=[32,18,26,60,55,65]\n",
        "weight_list"
      ],
      "metadata": {
        "colab": {
          "base_uri": "https://localhost:8080/"
        },
        "id": "d7g8FZcHdvwy",
        "outputId": "75cf09ca-67c6-48c1-8389-d357de2f1392"
      },
      "execution_count": null,
      "outputs": [
        {
          "output_type": "execute_result",
          "data": {
            "text/plain": [
              "[32, 18, 26, 60, 55, 65]"
            ]
          },
          "metadata": {},
          "execution_count": 16
        }
      ]
    },
    {
      "cell_type": "code",
      "source": [
        "people=np.array([age_list,weight_list])\n",
        "people"
      ],
      "metadata": {
        "colab": {
          "base_uri": "https://localhost:8080/"
        },
        "id": "qtR0rzHxc_FB",
        "outputId": "606f1c96-f22a-43fc-d488-72c472306165"
      },
      "execution_count": null,
      "outputs": [
        {
          "output_type": "execute_result",
          "data": {
            "text/plain": [
              "array([[10,  5,  8, 32, 65, 43],\n",
              "       [32, 18, 26, 60, 55, 65]])"
            ]
          },
          "metadata": {},
          "execution_count": 18
        }
      ]
    },
    {
      "cell_type": "code",
      "source": [
        "people.size"
      ],
      "metadata": {
        "colab": {
          "base_uri": "https://localhost:8080/"
        },
        "id": "y-xFIN0BebWp",
        "outputId": "6c9e660d-c431-4a8a-d963-82e61f94c3c8"
      },
      "execution_count": null,
      "outputs": [
        {
          "output_type": "execute_result",
          "data": {
            "text/plain": [
              "12"
            ]
          },
          "metadata": {},
          "execution_count": 23
        }
      ]
    },
    {
      "cell_type": "code",
      "source": [
        "people.shape"
      ],
      "metadata": {
        "colab": {
          "base_uri": "https://localhost:8080/"
        },
        "id": "q96njZb8ew3a",
        "outputId": "fb072fb0-7f87-4359-cc6d-3307e7dce25e"
      },
      "execution_count": null,
      "outputs": [
        {
          "output_type": "execute_result",
          "data": {
            "text/plain": [
              "(2, 6)"
            ]
          },
          "metadata": {},
          "execution_count": 24
        }
      ]
    },
    {
      "cell_type": "code",
      "source": [
        "people.dtype"
      ],
      "metadata": {
        "colab": {
          "base_uri": "https://localhost:8080/"
        },
        "id": "7D6UgmeFfEYc",
        "outputId": "4d215a0e-ff9e-42cf-8d67-0b6fe1ffd436"
      },
      "execution_count": null,
      "outputs": [
        {
          "output_type": "execute_result",
          "data": {
            "text/plain": [
              "dtype('int64')"
            ]
          },
          "metadata": {},
          "execution_count": 25
        }
      ]
    },
    {
      "cell_type": "code",
      "source": [
        "print(type(people))"
      ],
      "metadata": {
        "colab": {
          "base_uri": "https://localhost:8080/"
        },
        "id": "EhZymLJLfGnD",
        "outputId": "82cfd3e1-6d32-4b0b-8b3b-1e3b8d23eaed"
      },
      "execution_count": null,
      "outputs": [
        {
          "output_type": "stream",
          "name": "stdout",
          "text": [
            "<class 'numpy.ndarray'>\n"
          ]
        }
      ]
    },
    {
      "cell_type": "code",
      "source": [
        "people=people.reshape(12,1)\n",
        "print(people)\n",
        "print(people.size)\n",
        "print(people.dtype)"
      ],
      "metadata": {
        "colab": {
          "base_uri": "https://localhost:8080/"
        },
        "id": "tPT7_xYRfQT1",
        "outputId": "0d8a0f1f-ed1e-4dc8-d4e3-c7a3f4b14b0c"
      },
      "execution_count": null,
      "outputs": [
        {
          "output_type": "stream",
          "name": "stdout",
          "text": [
            "[[10]\n",
            " [ 5]\n",
            " [ 8]\n",
            " [32]\n",
            " [65]\n",
            " [43]\n",
            " [32]\n",
            " [18]\n",
            " [26]\n",
            " [60]\n",
            " [55]\n",
            " [65]]\n",
            "12\n",
            "int64\n"
          ]
        }
      ]
    },
    {
      "cell_type": "code",
      "source": [
        "print(type(people))"
      ],
      "metadata": {
        "colab": {
          "base_uri": "https://localhost:8080/"
        },
        "id": "VCNjWEG6fpuk",
        "outputId": "9b586fc0-ac44-4aa3-a9d7-545a15d75238"
      },
      "execution_count": null,
      "outputs": [
        {
          "output_type": "stream",
          "name": "stdout",
          "text": [
            "<class 'numpy.ndarray'>\n"
          ]
        }
      ]
    },
    {
      "cell_type": "markdown",
      "source": [
        "EXERCISE"
      ],
      "metadata": {
        "id": "TRUTnmeXgW8n"
      }
    },
    {
      "cell_type": "code",
      "source": [
        "import numpy as np"
      ],
      "metadata": {
        "id": "kC21Q1MVgZV5"
      },
      "execution_count": null,
      "outputs": []
    },
    {
      "cell_type": "code",
      "source": [
        "list=[7, 9, 65, 33, 85, 99]"
      ],
      "metadata": {
        "id": "SEPoa04OgKaO"
      },
      "execution_count": null,
      "outputs": []
    },
    {
      "cell_type": "code",
      "source": [
        "arr=np.array(list)\n",
        "arr"
      ],
      "metadata": {
        "colab": {
          "base_uri": "https://localhost:8080/"
        },
        "id": "Y9bA2Kx2gqT-",
        "outputId": "b1c06fa6-8c70-4991-c203-6ac848ef5db6"
      },
      "execution_count": null,
      "outputs": [
        {
          "output_type": "execute_result",
          "data": {
            "text/plain": [
              "array([ 7,  9, 65, 33, 85, 99])"
            ]
          },
          "metadata": {},
          "execution_count": 35
        }
      ]
    },
    {
      "cell_type": "code",
      "source": [
        "list=[1,2,4,2,3,0,0,5,1]"
      ],
      "metadata": {
        "id": "rfV5_r90g0Cr"
      },
      "execution_count": null,
      "outputs": []
    },
    {
      "cell_type": "code",
      "source": [
        "arr=np.array(list)\n",
        "arr"
      ],
      "metadata": {
        "colab": {
          "base_uri": "https://localhost:8080/"
        },
        "id": "uVzINu6qhBrB",
        "outputId": "0ef8ea0e-262e-4b9f-db57-97c14515c1f4"
      },
      "execution_count": null,
      "outputs": [
        {
          "output_type": "execute_result",
          "data": {
            "text/plain": [
              "array([1, 2, 4, 2, 3, 0, 0, 5, 1])"
            ]
          },
          "metadata": {},
          "execution_count": 37
        }
      ]
    },
    {
      "cell_type": "code",
      "source": [
        "arr=arr.reshape(3,3)\n",
        "print(arr)"
      ],
      "metadata": {
        "colab": {
          "base_uri": "https://localhost:8080/"
        },
        "id": "SVyr_MZdhU0M",
        "outputId": "cf310f6a-e90b-4112-a014-c9c49ea37fbf"
      },
      "execution_count": null,
      "outputs": [
        {
          "output_type": "stream",
          "name": "stdout",
          "text": [
            "[[1 2 4]\n",
            " [2 3 0]\n",
            " [0 5 1]]\n"
          ]
        }
      ]
    },
    {
      "cell_type": "code",
      "source": [
        "arr=arr.reshape(9,1)\n",
        "arr"
      ],
      "metadata": {
        "colab": {
          "base_uri": "https://localhost:8080/"
        },
        "id": "ViahORZLhb11",
        "outputId": "5158b10e-32e9-4175-ee58-aada61134ccf"
      },
      "execution_count": null,
      "outputs": [
        {
          "output_type": "execute_result",
          "data": {
            "text/plain": [
              "array([[1],\n",
              "       [2],\n",
              "       [4],\n",
              "       [2],\n",
              "       [3],\n",
              "       [0],\n",
              "       [0],\n",
              "       [5],\n",
              "       [1]])"
            ]
          },
          "metadata": {},
          "execution_count": 42
        }
      ]
    },
    {
      "cell_type": "markdown",
      "source": [
        "Array Generation"
      ],
      "metadata": {
        "id": "u3AdlE-8jF7Y"
      }
    },
    {
      "cell_type": "markdown",
      "source": [
        "The np.arange() method creates a range of numbers with user defined steps between each."
      ],
      "metadata": {
        "id": "snLvibDijXul"
      }
    },
    {
      "cell_type": "code",
      "source": [
        "five_times_table = np.arange(0, 55, 5)\n",
        "five_times_table"
      ],
      "metadata": {
        "colab": {
          "base_uri": "https://localhost:8080/"
        },
        "id": "g95fGcREjJwS",
        "outputId": "968a8014-10ea-4b6d-fabc-e9e08a827a59"
      },
      "execution_count": null,
      "outputs": [
        {
          "output_type": "execute_result",
          "data": {
            "text/plain": [
              "array([ 0,  5, 10, 15, 20, 25, 30, 35, 40, 45, 50])"
            ]
          },
          "metadata": {},
          "execution_count": 43
        }
      ]
    },
    {
      "cell_type": "markdown",
      "source": [
        "The np.linspace() method will produce a range of evenly spaced values, starting, ending, and taking as many steps as you specify."
      ],
      "metadata": {
        "id": "X6Az4GYJjZJA"
      }
    },
    {
      "cell_type": "code",
      "source": [
        "five_spaced = np.linspace(0,50,11)\n",
        "print(five_spaced)"
      ],
      "metadata": {
        "colab": {
          "base_uri": "https://localhost:8080/"
        },
        "id": "RYhttMQyjcZc",
        "outputId": "52f94eee-ac39-431a-beea-7966149d0b2c"
      },
      "execution_count": null,
      "outputs": [
        {
          "output_type": "stream",
          "name": "stdout",
          "text": [
            "[ 0.  5. 10. 15. 20. 25. 30. 35. 40. 45. 50.]\n"
          ]
        }
      ]
    },
    {
      "cell_type": "markdown",
      "source": [
        "The .repeat() method will repeat an object you pas a specified number of times."
      ],
      "metadata": {
        "id": "Q0BP_HOUkuYQ"
      }
    },
    {
      "cell_type": "code",
      "source": [
        "twoArr = np.repeat(2, 10)\n",
        "print(twoArr)"
      ],
      "metadata": {
        "colab": {
          "base_uri": "https://localhost:8080/"
        },
        "id": "aHcDg9CBkvOB",
        "outputId": "288c370b-3639-4987-aab2-3c13eb93d89c"
      },
      "execution_count": null,
      "outputs": [
        {
          "output_type": "stream",
          "name": "stdout",
          "text": [
            "[2 2 2 2 2 2 2 2 2 2]\n"
          ]
        }
      ]
    },
    {
      "cell_type": "markdown",
      "source": [
        "The np.eye() functions will create an identity matrix/array for us."
      ],
      "metadata": {
        "id": "9UE8NcxRk40a"
      }
    },
    {
      "cell_type": "code",
      "source": [
        "identity_matrix = np.eye(6)\n",
        "print(identity_matrix)"
      ],
      "metadata": {
        "colab": {
          "base_uri": "https://localhost:8080/"
        },
        "id": "MZSJGZ7ck-FK",
        "outputId": "1e2328a7-ca89-4a53-c024-d3173df250a7"
      },
      "execution_count": null,
      "outputs": [
        {
          "output_type": "stream",
          "name": "stdout",
          "text": [
            "[[1. 0. 0. 0. 0. 0.]\n",
            " [0. 1. 0. 0. 0. 0.]\n",
            " [0. 0. 1. 0. 0. 0.]\n",
            " [0. 0. 0. 1. 0. 0.]\n",
            " [0. 0. 0. 0. 1. 0.]\n",
            " [0. 0. 0. 0. 0. 1.]]\n"
          ]
        }
      ]
    },
    {
      "cell_type": "markdown",
      "source": [
        "OPERATIONS"
      ],
      "metadata": {
        "id": "7boTtXaNlEle"
      }
    },
    {
      "cell_type": "code",
      "source": [
        "print(five_times_table)"
      ],
      "metadata": {
        "colab": {
          "base_uri": "https://localhost:8080/"
        },
        "id": "kmNkYg3alHxq",
        "outputId": "b595d0b2-afd3-43ae-ba08-6b21c8ab6ac4"
      },
      "execution_count": null,
      "outputs": [
        {
          "output_type": "stream",
          "name": "stdout",
          "text": [
            "[ 0  5 10 15 20 25 30 35 40 45 50]\n"
          ]
        }
      ]
    },
    {
      "cell_type": "code",
      "source": [
        "print(\"1:\", 2 * five_times_table)\n",
        "print(\"2:\", 10 + five_times_table)\n",
        "print(\"3:\", five_times_table - 1)\n",
        "print(\"4:\", five_times_table/5)\n",
        "print(\"5:\", five_times_table **2)\n",
        "print(\"6:\", five_times_table < 20)"
      ],
      "metadata": {
        "colab": {
          "base_uri": "https://localhost:8080/"
        },
        "id": "oSg4YEstjEXv",
        "outputId": "5d57bc63-d0f5-4b95-b57f-8be7245d2e97"
      },
      "execution_count": null,
      "outputs": [
        {
          "output_type": "stream",
          "name": "stdout",
          "text": [
            "1: [  0  10  20  30  40  50  60  70  80  90 100]\n",
            "2: [10 15 20 25 30 35 40 45 50 55 60]\n",
            "3: [-1  4  9 14 19 24 29 34 39 44 49]\n",
            "4: [ 0.  1.  2.  3.  4.  5.  6.  7.  8.  9. 10.]\n",
            "5: [   0   25  100  225  400  625  900 1225 1600 2025 2500]\n",
            "6: [ True  True  True  True False False False False False False False]\n"
          ]
        }
      ]
    },
    {
      "cell_type": "markdown",
      "source": [
        "Speed Test-\n",
        "If we compare the speed at which we can do these operations compared to core python, we will notice a substantial difference."
      ],
      "metadata": {
        "id": "bUhMCwWTloev"
      }
    },
    {
      "cell_type": "code",
      "source": [
        "fives_list = np.arange(0,5001,5)\n",
        "print(fives_list)"
      ],
      "metadata": {
        "colab": {
          "base_uri": "https://localhost:8080/"
        },
        "id": "71g0VGEVlt6i",
        "outputId": "bd67a1f8-d477-4d97-d45c-0977b7ccf3dc"
      },
      "execution_count": null,
      "outputs": [
        {
          "output_type": "stream",
          "name": "stdout",
          "text": [
            "[   0    5   10 ... 4990 4995 5000]\n"
          ]
        }
      ]
    },
    {
      "cell_type": "code",
      "source": [
        "five_times_table_lge = np.arange(0,5001,5)\n",
        "five_times_table_lge"
      ],
      "metadata": {
        "id": "O5jZVP9hi6VT",
        "colab": {
          "base_uri": "https://localhost:8080/"
        },
        "outputId": "c51449d4-4452-4fc8-950b-6dec37bbd9d9"
      },
      "execution_count": null,
      "outputs": [
        {
          "output_type": "execute_result",
          "data": {
            "text/plain": [
              "array([   0,    5,   10, ..., 4990, 4995, 5000])"
            ]
          },
          "metadata": {},
          "execution_count": 51
        }
      ]
    },
    {
      "cell_type": "code",
      "source": [
        "%timeit five_times_table_lge + 5"
      ],
      "metadata": {
        "colab": {
          "base_uri": "https://localhost:8080/"
        },
        "id": "_6n8DcbKnPWF",
        "outputId": "b4d812ec-b42c-4635-adc9-6626e2d26d92"
      },
      "execution_count": null,
      "outputs": [
        {
          "output_type": "stream",
          "name": "stdout",
          "text": [
            "1.53 µs ± 303 ns per loop (mean ± std. dev. of 7 runs, 1000000 loops each)\n"
          ]
        }
      ]
    },
    {
      "cell_type": "code",
      "source": [
        "%timeit [e + 5 for e in fives_list]"
      ],
      "metadata": {
        "colab": {
          "base_uri": "https://localhost:8080/"
        },
        "id": "t0MvBlvCnUVO",
        "outputId": "2c2fd42a-5c4f-455c-b270-c945134c1502"
      },
      "execution_count": null,
      "outputs": [
        {
          "output_type": "stream",
          "name": "stdout",
          "text": [
            "239 µs ± 5.63 µs per loop (mean ± std. dev. of 7 runs, 1000 loops each)\n"
          ]
        }
      ]
    },
    {
      "cell_type": "markdown",
      "source": [
        "Boolean string operations can also be performed on ndarrays."
      ],
      "metadata": {
        "id": "7UbGh1efoUyi"
      }
    },
    {
      "cell_type": "code",
      "source": [
        "words = np.array([\"ten\", \"nine\", \"eight\", \"seven\", \"six\"])\n",
        "\n",
        "print(np.isin(words, 'e'))\n",
        "\n",
        "print(\"e\" in words)\n",
        "[\"e\" in word for word in words]"
      ],
      "metadata": {
        "colab": {
          "base_uri": "https://localhost:8080/"
        },
        "id": "ypOsuoFUoWRw",
        "outputId": "fcfef967-b1b6-46cf-d9f8-8798cd5a6e6f"
      },
      "execution_count": null,
      "outputs": [
        {
          "output_type": "stream",
          "name": "stdout",
          "text": [
            "[False False False False False]\n",
            "False\n"
          ]
        },
        {
          "output_type": "execute_result",
          "data": {
            "text/plain": [
              "[True, True, True, True, False]"
            ]
          },
          "metadata": {},
          "execution_count": 58
        }
      ]
    },
    {
      "cell_type": "markdown",
      "source": [
        "Transpose"
      ],
      "metadata": {
        "id": "vNQ1MizHotqh"
      }
    },
    {
      "cell_type": "code",
      "source": [
        "people.shape = (2, 6)\n",
        "print(people, \"\\n\")\n",
        "print(people.T)"
      ],
      "metadata": {
        "colab": {
          "base_uri": "https://localhost:8080/"
        },
        "id": "yEjV7Q3ooudp",
        "outputId": "1a6443ab-f2e8-48c3-cf9a-f3ea069b516e"
      },
      "execution_count": null,
      "outputs": [
        {
          "output_type": "stream",
          "name": "stdout",
          "text": [
            "[[10  5  8 32 65 43]\n",
            " [32 18 26 60 55 65]] \n",
            "\n",
            "[[10 32]\n",
            " [ 5 18]\n",
            " [ 8 26]\n",
            " [32 60]\n",
            " [65 55]\n",
            " [43 65]]\n"
          ]
        }
      ]
    },
    {
      "cell_type": "markdown",
      "source": [
        "DATATYPE"
      ],
      "metadata": {
        "id": "Y-Qbv-mgpi-s"
      }
    },
    {
      "cell_type": "code",
      "source": [
        "people.dtype"
      ],
      "metadata": {
        "colab": {
          "base_uri": "https://localhost:8080/"
        },
        "id": "npbEBsyPpkk5",
        "outputId": "62573239-298f-4058-f4c9-9ffad2025df0"
      },
      "execution_count": null,
      "outputs": [
        {
          "output_type": "execute_result",
          "data": {
            "text/plain": [
              "dtype('int64')"
            ]
          },
          "metadata": {},
          "execution_count": 60
        }
      ]
    },
    {
      "cell_type": "code",
      "source": [
        "ages_with_strings = np.array([10, 5, 8, '32', '65', '43'])\n",
        "ages_with_strings"
      ],
      "metadata": {
        "colab": {
          "base_uri": "https://localhost:8080/"
        },
        "id": "JGfKkOBhnZMf",
        "outputId": "ab4d32e8-00d2-4b5f-9c9e-bd247885a1ca"
      },
      "execution_count": null,
      "outputs": [
        {
          "output_type": "execute_result",
          "data": {
            "text/plain": [
              "array(['10', '5', '8', '32', '65', '43'], dtype='<U21')"
            ]
          },
          "metadata": {},
          "execution_count": 61
        }
      ]
    },
    {
      "cell_type": "code",
      "source": [
        "ages_with_strings.dtype"
      ],
      "metadata": {
        "colab": {
          "base_uri": "https://localhost:8080/"
        },
        "id": "6_T1dbuJpuC9",
        "outputId": "fe499b4f-9498-4920-bb26-a9a5f7223221"
      },
      "execution_count": null,
      "outputs": [
        {
          "output_type": "execute_result",
          "data": {
            "text/plain": [
              "dtype('<U21')"
            ]
          },
          "metadata": {},
          "execution_count": 62
        }
      ]
    },
    {
      "cell_type": "code",
      "source": [
        "ages_with_strings = np.array([10, 5, 8, '32', '65', '43'], dtype='int32')\n",
        "ages_with_strings"
      ],
      "metadata": {
        "colab": {
          "base_uri": "https://localhost:8080/"
        },
        "id": "59JeeTnVpxgW",
        "outputId": "30b18b94-269f-4644-8f02-db0519c562ae"
      },
      "execution_count": null,
      "outputs": [
        {
          "output_type": "execute_result",
          "data": {
            "text/plain": [
              "array([10,  5,  8, 32, 65, 43], dtype=int32)"
            ]
          },
          "metadata": {},
          "execution_count": 63
        }
      ]
    },
    {
      "cell_type": "code",
      "source": [
        "ages_with_strings.dtype"
      ],
      "metadata": {
        "colab": {
          "base_uri": "https://localhost:8080/"
        },
        "id": "P3kirwnRp21v",
        "outputId": "c12e68ae-da55-4a77-fc1b-aa9f4cdfc33a"
      },
      "execution_count": null,
      "outputs": [
        {
          "output_type": "execute_result",
          "data": {
            "text/plain": [
              "dtype('int32')"
            ]
          },
          "metadata": {},
          "execution_count": 64
        }
      ]
    },
    {
      "cell_type": "code",
      "source": [
        "ages_with_strings = np.array([10, 5, 8, '32', '65', '43'])\n",
        "print(ages_with_strings)"
      ],
      "metadata": {
        "colab": {
          "base_uri": "https://localhost:8080/"
        },
        "id": "ZeOWZMIrp_S4",
        "outputId": "debb0f77-b9f2-488b-834c-80b4dfc7b39e"
      },
      "execution_count": null,
      "outputs": [
        {
          "output_type": "stream",
          "name": "stdout",
          "text": [
            "['10' '5' '8' '32' '65' '43']\n"
          ]
        }
      ]
    },
    {
      "cell_type": "code",
      "source": [
        "ages_with_strings.dtype"
      ],
      "metadata": {
        "colab": {
          "base_uri": "https://localhost:8080/"
        },
        "id": "LfGpZWcaqD5X",
        "outputId": "918ecd3b-962c-4208-b7cd-b103c8bbcadc"
      },
      "execution_count": null,
      "outputs": [
        {
          "output_type": "execute_result",
          "data": {
            "text/plain": [
              "dtype('<U21')"
            ]
          },
          "metadata": {},
          "execution_count": 66
        }
      ]
    },
    {
      "cell_type": "code",
      "source": [
        "ages_with_strings.dtype = 'int32'\n",
        "print(ages_with_strings)"
      ],
      "metadata": {
        "id": "LqLNGZHxqKXf",
        "outputId": "a944e2f2-6ec8-462c-9231-1535b10ff42c",
        "colab": {
          "base_uri": "https://localhost:8080/"
        }
      },
      "execution_count": null,
      "outputs": [
        {
          "output_type": "stream",
          "name": "stdout",
          "text": [
            "[49 48  0  0  0  0  0  0  0  0  0  0  0  0  0  0  0  0  0  0  0 53  0  0\n",
            "  0  0  0  0  0  0  0  0  0  0  0  0  0  0  0  0  0  0 56  0  0  0  0  0\n",
            "  0  0  0  0  0  0  0  0  0  0  0  0  0  0  0 51 50  0  0  0  0  0  0  0\n",
            "  0  0  0  0  0  0  0  0  0  0  0  0 54 53  0  0  0  0  0  0  0  0  0  0\n",
            "  0  0  0  0  0  0  0  0  0 52 51  0  0  0  0  0  0  0  0  0  0  0  0  0\n",
            "  0  0  0  0  0  0]\n"
          ]
        }
      ]
    },
    {
      "cell_type": "code",
      "source": [
        "ages_with_strings.size"
      ],
      "metadata": {
        "id": "jRSNIc-cqSdv",
        "outputId": "b90da2d2-2f37-4101-c063-677d0c4b007c",
        "colab": {
          "base_uri": "https://localhost:8080/"
        }
      },
      "execution_count": null,
      "outputs": [
        {
          "output_type": "execute_result",
          "data": {
            "text/plain": [
              "126"
            ]
          },
          "metadata": {},
          "execution_count": 68
        }
      ]
    },
    {
      "cell_type": "code",
      "source": [
        "ages_with_strings.size/21"
      ],
      "metadata": {
        "id": "wV717dJQqX7p",
        "outputId": "14451cb7-2dc8-46c1-ade7-3b5ad5eef5cc",
        "colab": {
          "base_uri": "https://localhost:8080/"
        }
      },
      "execution_count": null,
      "outputs": [
        {
          "output_type": "execute_result",
          "data": {
            "text/plain": [
              "6.0"
            ]
          },
          "metadata": {},
          "execution_count": 69
        }
      ]
    },
    {
      "cell_type": "code",
      "source": [
        "np.array([10, 5, 8, '32', '65', '43']).size"
      ],
      "metadata": {
        "id": "bHmlZUHhqaaT",
        "outputId": "1165e4f2-4ac3-4b1e-8bf4-c0c684979cb9",
        "colab": {
          "base_uri": "https://localhost:8080/"
        }
      },
      "execution_count": null,
      "outputs": [
        {
          "output_type": "execute_result",
          "data": {
            "text/plain": [
              "6"
            ]
          },
          "metadata": {},
          "execution_count": 70
        }
      ]
    },
    {
      "cell_type": "markdown",
      "source": [
        "The correct way to have changed the data type of the ndarray would have been to use the .astype() method, demonstrated below."
      ],
      "metadata": {
        "id": "rlJeyGgSqlJ_"
      }
    },
    {
      "cell_type": "code",
      "source": [
        "ages_with_strings = np.array([10, 5, 8, '32', '65', '43'])\n",
        "print(ages_with_strings)\n",
        "print(ages_with_strings.astype('int32'))"
      ],
      "metadata": {
        "id": "n14wT694qoPQ",
        "outputId": "4df45a40-1eb2-478f-e066-89cc46a27dd4",
        "colab": {
          "base_uri": "https://localhost:8080/"
        }
      },
      "execution_count": null,
      "outputs": [
        {
          "output_type": "stream",
          "name": "stdout",
          "text": [
            "['10' '5' '8' '32' '65' '43']\n",
            "[10  5  8 32 65 43]\n"
          ]
        }
      ]
    },
    {
      "cell_type": "markdown",
      "source": [
        "Exercise"
      ],
      "metadata": {
        "id": "u0hD5GHJq_cl"
      }
    },
    {
      "cell_type": "code",
      "source": [
        "strings = np.array(['10', '5', '8', '32', '65', '43'])\n",
        "print(strings)\n",
        "print(strings.astype('float'))"
      ],
      "metadata": {
        "id": "_TJAU3QcrAZo",
        "outputId": "7a13f843-aa1a-4a0a-82f7-0044aff1bef0",
        "colab": {
          "base_uri": "https://localhost:8080/"
        }
      },
      "execution_count": null,
      "outputs": [
        {
          "output_type": "stream",
          "name": "stdout",
          "text": [
            "['10' '5' '8' '32' '65' '43']\n",
            "[10.  5.  8. 32. 65. 43.]\n"
          ]
        }
      ]
    },
    {
      "cell_type": "code",
      "source": [
        "strings.shape = (2, 3)\n",
        "print(strings, \"\\n\")\n",
        "print(strings.T)"
      ],
      "metadata": {
        "id": "2O3nV9bYqw_b",
        "outputId": "ce3c7be3-58bb-468c-ad96-8efa6d810d3f",
        "colab": {
          "base_uri": "https://localhost:8080/"
        }
      },
      "execution_count": null,
      "outputs": [
        {
          "output_type": "stream",
          "name": "stdout",
          "text": [
            "[['10' '5' '8']\n",
            " ['32' '65' '43']] \n",
            "\n",
            "[['10' '32']\n",
            " ['5' '65']\n",
            " ['8' '43']]\n"
          ]
        }
      ]
    },
    {
      "cell_type": "code",
      "source": [
        "strings = np.array(['10', '5', '8', '32', '65', '43'])\n",
        "print(strings)\n",
        "print(strings.astype('bool'))"
      ],
      "metadata": {
        "id": "zjd7UcBYrx8B",
        "outputId": "7a092f4b-b3f8-496f-d6fc-93322a1a86f6",
        "colab": {
          "base_uri": "https://localhost:8080/"
        }
      },
      "execution_count": null,
      "outputs": [
        {
          "output_type": "stream",
          "name": "stdout",
          "text": [
            "['10' '5' '8' '32' '65' '43']\n",
            "[ True  True  True  True  True  True]\n"
          ]
        }
      ]
    },
    {
      "cell_type": "markdown",
      "source": [
        "Array Slicing Operations"
      ],
      "metadata": {
        "id": "vPgrJUZRsO2q"
      }
    },
    {
      "cell_type": "code",
      "source": [
        "five_times_table"
      ],
      "metadata": {
        "id": "Jgo2YTx2sPs4",
        "outputId": "59df2d8e-cd82-4d85-8773-21fa1604c62c",
        "colab": {
          "base_uri": "https://localhost:8080/"
        }
      },
      "execution_count": null,
      "outputs": [
        {
          "output_type": "execute_result",
          "data": {
            "text/plain": [
              "array([ 0,  5, 10, 15, 20, 25, 30, 35, 40, 45, 50])"
            ]
          },
          "metadata": {},
          "execution_count": 79
        }
      ]
    },
    {
      "cell_type": "code",
      "source": [
        "five_times_table[0]"
      ],
      "metadata": {
        "id": "3gN-yGZDsG49",
        "outputId": "c90c80e3-ed81-48d4-da06-1dca2477aaad",
        "colab": {
          "base_uri": "https://localhost:8080/"
        }
      },
      "execution_count": null,
      "outputs": [
        {
          "output_type": "execute_result",
          "data": {
            "text/plain": [
              "0"
            ]
          },
          "metadata": {},
          "execution_count": 80
        }
      ]
    },
    {
      "cell_type": "code",
      "source": [
        "five_times_table[-1]"
      ],
      "metadata": {
        "id": "YeK0oEw5sXL_",
        "outputId": "f019167e-9d61-4595-baea-902fcfd6e4d4",
        "colab": {
          "base_uri": "https://localhost:8080/"
        }
      },
      "execution_count": null,
      "outputs": [
        {
          "output_type": "execute_result",
          "data": {
            "text/plain": [
              "50"
            ]
          },
          "metadata": {},
          "execution_count": 81
        }
      ]
    },
    {
      "cell_type": "code",
      "source": [
        "five_times_table[4:]"
      ],
      "metadata": {
        "id": "VqxHjjDDsY0Z",
        "outputId": "4318f321-85fa-43bd-a54e-391163abdd82",
        "colab": {
          "base_uri": "https://localhost:8080/"
        }
      },
      "execution_count": null,
      "outputs": [
        {
          "output_type": "execute_result",
          "data": {
            "text/plain": [
              "array([20, 25, 30, 35, 40, 45, 50])"
            ]
          },
          "metadata": {},
          "execution_count": 82
        }
      ]
    },
    {
      "cell_type": "code",
      "source": [
        "five_times_table[:4]"
      ],
      "metadata": {
        "id": "hzOPo1mKsa9X",
        "outputId": "b1aa1e96-24bd-4720-e353-3d3b13cd3639",
        "colab": {
          "base_uri": "https://localhost:8080/"
        }
      },
      "execution_count": null,
      "outputs": [
        {
          "output_type": "execute_result",
          "data": {
            "text/plain": [
              "array([ 0,  5, 10, 15])"
            ]
          },
          "metadata": {},
          "execution_count": 83
        }
      ]
    },
    {
      "cell_type": "code",
      "source": [
        "print(people)\n",
        "people[:3, :3]"
      ],
      "metadata": {
        "id": "idwEgNxfscfu",
        "outputId": "c1bf6532-d294-4eb8-e671-6302fba586e8",
        "colab": {
          "base_uri": "https://localhost:8080/"
        }
      },
      "execution_count": null,
      "outputs": [
        {
          "output_type": "stream",
          "name": "stdout",
          "text": [
            "[[10  5  8 32 65 43]\n",
            " [32 18 26 60 55 65]]\n"
          ]
        },
        {
          "output_type": "execute_result",
          "data": {
            "text/plain": [
              "array([[10,  5,  8],\n",
              "       [32, 18, 26]])"
            ]
          },
          "metadata": {},
          "execution_count": 84
        }
      ]
    },
    {
      "cell_type": "markdown",
      "source": [
        "EXERCISE\n",
        "Create a numpy array with 50 zeros\n",
        "Create a np array of 2 repeated 20 times\n",
        "Create a numpy array from 0 to 2  in steps of 0.1\n",
        "For one of the arrays generated:\n",
        "\n",
        "Get the first five values\n",
        "Get the last 3 values\n",
        "Get the 4th value to the 7th value"
      ],
      "metadata": {
        "id": "SUGUMWJis5Y5"
      }
    },
    {
      "cell_type": "code",
      "source": [
        "arr=np.zeros(50)\n",
        "arr"
      ],
      "metadata": {
        "id": "g2QxDh3ls7N-",
        "outputId": "1eef6bb8-8a2d-4bb0-9a01-f4aeaf1fba34",
        "colab": {
          "base_uri": "https://localhost:8080/"
        }
      },
      "execution_count": null,
      "outputs": [
        {
          "output_type": "execute_result",
          "data": {
            "text/plain": [
              "array([0., 0., 0., 0., 0., 0., 0., 0., 0., 0., 0., 0., 0., 0., 0., 0., 0.,\n",
              "       0., 0., 0., 0., 0., 0., 0., 0., 0., 0., 0., 0., 0., 0., 0., 0., 0.,\n",
              "       0., 0., 0., 0., 0., 0., 0., 0., 0., 0., 0., 0., 0., 0., 0., 0.])"
            ]
          },
          "metadata": {},
          "execution_count": 86
        }
      ]
    },
    {
      "cell_type": "code",
      "source": [
        "rp=np.repeat(2,20)\n",
        "rp"
      ],
      "metadata": {
        "id": "W76clwyFs0Vm",
        "outputId": "aba76b0a-2903-436c-bf43-2ac99ffce152",
        "colab": {
          "base_uri": "https://localhost:8080/"
        }
      },
      "execution_count": null,
      "outputs": [
        {
          "output_type": "execute_result",
          "data": {
            "text/plain": [
              "array([2, 2, 2, 2, 2, 2, 2, 2, 2, 2, 2, 2, 2, 2, 2, 2, 2, 2, 2, 2])"
            ]
          },
          "metadata": {},
          "execution_count": 88
        }
      ]
    },
    {
      "cell_type": "code",
      "source": [
        "space=np.arange(0,(2*22/7),0.1)\n",
        "space"
      ],
      "metadata": {
        "id": "3xCAlvI5tOtd",
        "outputId": "2f8f8644-4da1-4c76-875c-6d3b3e87fe94",
        "colab": {
          "base_uri": "https://localhost:8080/"
        }
      },
      "execution_count": null,
      "outputs": [
        {
          "output_type": "execute_result",
          "data": {
            "text/plain": [
              "array([0. , 0.1, 0.2, 0.3, 0.4, 0.5, 0.6, 0.7, 0.8, 0.9, 1. , 1.1, 1.2,\n",
              "       1.3, 1.4, 1.5, 1.6, 1.7, 1.8, 1.9, 2. , 2.1, 2.2, 2.3, 2.4, 2.5,\n",
              "       2.6, 2.7, 2.8, 2.9, 3. , 3.1, 3.2, 3.3, 3.4, 3.5, 3.6, 3.7, 3.8,\n",
              "       3.9, 4. , 4.1, 4.2, 4.3, 4.4, 4.5, 4.6, 4.7, 4.8, 4.9, 5. , 5.1,\n",
              "       5.2, 5.3, 5.4, 5.5, 5.6, 5.7, 5.8, 5.9, 6. , 6.1, 6.2])"
            ]
          },
          "metadata": {},
          "execution_count": 93
        }
      ]
    },
    {
      "cell_type": "code",
      "source": [
        "arr[0:5]"
      ],
      "metadata": {
        "id": "LgJ4FsJXt26o",
        "outputId": "266da522-b993-4d8e-abdd-628221128a9f",
        "colab": {
          "base_uri": "https://localhost:8080/"
        }
      },
      "execution_count": null,
      "outputs": [
        {
          "output_type": "execute_result",
          "data": {
            "text/plain": [
              "array([0., 0., 0., 0., 0.])"
            ]
          },
          "metadata": {},
          "execution_count": 101
        }
      ]
    },
    {
      "cell_type": "code",
      "source": [
        "rp[0:5]"
      ],
      "metadata": {
        "id": "t01QrKBVuK96",
        "outputId": "c17fac21-31e4-4c50-e546-104a37d9d4e0",
        "colab": {
          "base_uri": "https://localhost:8080/"
        }
      },
      "execution_count": null,
      "outputs": [
        {
          "output_type": "execute_result",
          "data": {
            "text/plain": [
              "array([2, 2, 2, 2, 2])"
            ]
          },
          "metadata": {},
          "execution_count": 102
        }
      ]
    },
    {
      "cell_type": "code",
      "source": [
        "space[0:5]"
      ],
      "metadata": {
        "id": "ITVklL6eu6hY",
        "outputId": "d5b5ddfc-06fd-446f-d5fb-59e7f9ad9067",
        "colab": {
          "base_uri": "https://localhost:8080/"
        }
      },
      "execution_count": null,
      "outputs": [
        {
          "output_type": "execute_result",
          "data": {
            "text/plain": [
              "array([0. , 0.1, 0.2, 0.3, 0.4])"
            ]
          },
          "metadata": {},
          "execution_count": 103
        }
      ]
    },
    {
      "cell_type": "code",
      "source": [
        "space[-3:]"
      ],
      "metadata": {
        "id": "7Ljnp5lnu8-a",
        "outputId": "a5a8aea1-426c-4f05-ede9-cea71175036f",
        "colab": {
          "base_uri": "https://localhost:8080/"
        }
      },
      "execution_count": null,
      "outputs": [
        {
          "output_type": "execute_result",
          "data": {
            "text/plain": [
              "array([6. , 6.1, 6.2])"
            ]
          },
          "metadata": {},
          "execution_count": 104
        }
      ]
    },
    {
      "cell_type": "code",
      "source": [
        "space[3:7]"
      ],
      "metadata": {
        "id": "mUDhgFVkvz_x",
        "outputId": "1efbb121-9960-4bc8-9219-83f4f1fec96b",
        "colab": {
          "base_uri": "https://localhost:8080/"
        }
      },
      "execution_count": null,
      "outputs": [
        {
          "output_type": "execute_result",
          "data": {
            "text/plain": [
              "array([0.3, 0.4, 0.5, 0.6])"
            ]
          },
          "metadata": {},
          "execution_count": 105
        }
      ]
    },
    {
      "cell_type": "code",
      "source": [
        "reverse_five_times_table = np.flip(five_times_table)\n",
        "reverse_five_times_table"
      ],
      "metadata": {
        "id": "MQ3gxLytv3wY",
        "outputId": "e46d54a1-6680-41bf-fc3e-d122ad1e7461",
        "colab": {
          "base_uri": "https://localhost:8080/"
        }
      },
      "execution_count": null,
      "outputs": [
        {
          "output_type": "execute_result",
          "data": {
            "text/plain": [
              "array([50, 45, 40, 35, 30, 25, 20, 15, 10,  5,  0])"
            ]
          },
          "metadata": {},
          "execution_count": 106
        }
      ]
    },
    {
      "cell_type": "code",
      "source": [
        "reverse_five_times_table = five_times_table[-1::-1]\n",
        "print(reverse_five_times_table)\n",
        "five_times_table"
      ],
      "metadata": {
        "id": "Gamkz2I9wIuC",
        "outputId": "727dec2f-e912-4d16-bf1c-a912a7f98bc2",
        "colab": {
          "base_uri": "https://localhost:8080/"
        }
      },
      "execution_count": null,
      "outputs": [
        {
          "output_type": "stream",
          "name": "stdout",
          "text": [
            "[50 45 40 35 30 25 20 15 10  5  0]\n"
          ]
        },
        {
          "output_type": "execute_result",
          "data": {
            "text/plain": [
              "array([ 0,  5, 10, 15, 20, 25, 30, 35, 40, 45, 50])"
            ]
          },
          "metadata": {},
          "execution_count": 107
        }
      ]
    },
    {
      "cell_type": "code",
      "source": [
        "five_times_table[0::3]"
      ],
      "metadata": {
        "id": "Qja-T7S4wLNo",
        "outputId": "ee342859-e1ae-4460-de8d-09013ea6ff70",
        "colab": {
          "base_uri": "https://localhost:8080/"
        }
      },
      "execution_count": null,
      "outputs": [
        {
          "output_type": "execute_result",
          "data": {
            "text/plain": [
              "array([ 0, 15, 30, 45])"
            ]
          },
          "metadata": {},
          "execution_count": 108
        }
      ]
    },
    {
      "cell_type": "markdown",
      "source": [
        "Exercise\n",
        "#### Reverse it\n",
        "\n",
        "#### Only keep every 4th element.\n",
        "#### Get every 2nd element, starting from the last and moving backwards."
      ],
      "metadata": {
        "id": "TcinZh5pwk18"
      }
    },
    {
      "cell_type": "code",
      "source": [
        "new_list=[3,6,9,12,15,18,21,24,27,30,33,36,39,42]\n",
        "new_array=np.array(new_list)"
      ],
      "metadata": {
        "id": "DXZ5OcyDwQzh"
      },
      "execution_count": null,
      "outputs": []
    },
    {
      "cell_type": "code",
      "source": [
        "reverse_new_array=np.flip(new_list)\n",
        "reverse_new_array"
      ],
      "metadata": {
        "id": "Y5gVri9kwj78",
        "outputId": "0bada06f-d368-4177-8e77-29440ffc4f0c",
        "colab": {
          "base_uri": "https://localhost:8080/"
        }
      },
      "execution_count": null,
      "outputs": [
        {
          "output_type": "execute_result",
          "data": {
            "text/plain": [
              "array([42, 39, 36, 33, 30, 27, 24, 21, 18, 15, 12,  9,  6,  3])"
            ]
          },
          "metadata": {},
          "execution_count": 110
        }
      ]
    },
    {
      "cell_type": "code",
      "source": [
        "new_array[0::4]"
      ],
      "metadata": {
        "id": "nIl4QfFewzOh",
        "outputId": "5bb79d14-3403-4518-eb76-f2f371f13532",
        "colab": {
          "base_uri": "https://localhost:8080/"
        }
      },
      "execution_count": null,
      "outputs": [
        {
          "output_type": "execute_result",
          "data": {
            "text/plain": [
              "array([ 3, 15, 27, 39])"
            ]
          },
          "metadata": {},
          "execution_count": 111
        }
      ]
    },
    {
      "cell_type": "code",
      "source": [
        "new_array[::2]"
      ],
      "metadata": {
        "id": "n7loaR5Rw4M_",
        "outputId": "3b6bffd6-b7aa-4b61-b65a-f19d5b543aba",
        "colab": {
          "base_uri": "https://localhost:8080/"
        }
      },
      "execution_count": null,
      "outputs": [
        {
          "output_type": "execute_result",
          "data": {
            "text/plain": [
              "array([ 3,  9, 15, 21, 27, 33, 39])"
            ]
          },
          "metadata": {},
          "execution_count": 112
        }
      ]
    },
    {
      "cell_type": "markdown",
      "source": [
        "Stats"
      ],
      "metadata": {
        "id": "UfcZBnX8xBH1"
      }
    },
    {
      "cell_type": "code",
      "source": [
        "np.array([1.65432, 5.98765]).round(2)"
      ],
      "metadata": {
        "id": "WLpQjKzkxEjZ",
        "outputId": "8bddaec9-56cd-45e4-be37-39cbc1a6a9c8",
        "colab": {
          "base_uri": "https://localhost:8080/"
        }
      },
      "execution_count": null,
      "outputs": [
        {
          "output_type": "execute_result",
          "data": {
            "text/plain": [
              "array([1.65, 5.99])"
            ]
          },
          "metadata": {},
          "execution_count": 113
        }
      ]
    },
    {
      "cell_type": "code",
      "source": [
        "nums = np.arange(0, 4, 0.2555)\n",
        "nums"
      ],
      "metadata": {
        "id": "mZanqBxnxAQH",
        "outputId": "0783b86a-ab32-404b-c928-4cb233b1aace",
        "colab": {
          "base_uri": "https://localhost:8080/"
        }
      },
      "execution_count": null,
      "outputs": [
        {
          "output_type": "execute_result",
          "data": {
            "text/plain": [
              "array([0.    , 0.2555, 0.511 , 0.7665, 1.022 , 1.2775, 1.533 , 1.7885,\n",
              "       2.044 , 2.2995, 2.555 , 2.8105, 3.066 , 3.3215, 3.577 , 3.8325])"
            ]
          },
          "metadata": {},
          "execution_count": 115
        }
      ]
    },
    {
      "cell_type": "markdown",
      "source": [
        "Exercise\n",
        "Compute min, max, sum, mean, median, variance, and standard deviation of the above array, all to to 2 decimal places."
      ],
      "metadata": {
        "id": "OnKftEPfxRvR"
      }
    },
    {
      "cell_type": "code",
      "source": [
        "print(\"min = \", np.min(nums).round(2))\n",
        "print(\"max = \", np.max(nums).round(2))\n",
        "print(\"sum = \", np.sum(nums).round(2))\n",
        "print(\"mean = \", np.mean(nums).round(2))\n",
        "print(\"median = \", np.median(nums).round(2))\n",
        "print(\"var = \", np.var(nums).round(2))\n",
        "print(\"std = \", np.std(nums).round(2))"
      ],
      "metadata": {
        "id": "xTMrI-K_xTv7",
        "outputId": "1ee5332a-d434-43f8-eb1b-b6aa3ce8e52d",
        "colab": {
          "base_uri": "https://localhost:8080/"
        }
      },
      "execution_count": null,
      "outputs": [
        {
          "output_type": "stream",
          "name": "stdout",
          "text": [
            "min =  0.0\n",
            "max =  3.83\n",
            "sum =  30.66\n",
            "mean =  1.92\n",
            "median =  1.92\n",
            "var =  1.39\n",
            "std =  1.18\n"
          ]
        }
      ]
    },
    {
      "cell_type": "markdown",
      "source": [
        "Random\n",
        "\n",
        "With np.random, we can generate a number of types of dataset, and create training data.\n",
        "\n",
        "The below code simulates a fair coin toss."
      ],
      "metadata": {
        "id": "P1FDXveOxciQ"
      }
    },
    {
      "cell_type": "code",
      "source": [
        "flip = np.random.choice([0,1], 10)\n",
        "flip"
      ],
      "metadata": {
        "id": "i9alqf-Qxf70",
        "outputId": "f39c66e2-8d82-4e9e-bdde-f65307e0eef8",
        "colab": {
          "base_uri": "https://localhost:8080/"
        }
      },
      "execution_count": null,
      "outputs": [
        {
          "output_type": "execute_result",
          "data": {
            "text/plain": [
              "array([0, 1, 0, 1, 1, 0, 1, 0, 1, 0])"
            ]
          },
          "metadata": {},
          "execution_count": 117
        }
      ]
    },
    {
      "cell_type": "code",
      "source": [
        "np.random.rand(10,20,9)"
      ],
      "metadata": {
        "id": "bmDkeIcxxKpu",
        "outputId": "1ad35d6d-967a-4fd3-e15a-65f4190ef409",
        "colab": {
          "base_uri": "https://localhost:8080/"
        }
      },
      "execution_count": null,
      "outputs": [
        {
          "output_type": "execute_result",
          "data": {
            "text/plain": [
              "array([[[0.91931441, 0.45547638, 0.82021861, ..., 0.45306743,\n",
              "         0.28123837, 0.57394065],\n",
              "        [0.00617422, 0.59007897, 0.24289226, ..., 0.28862867,\n",
              "         0.70783893, 0.88785123],\n",
              "        [0.2495359 , 0.87196108, 0.86540137, ..., 0.02371967,\n",
              "         0.2701208 , 0.67484125],\n",
              "        ...,\n",
              "        [0.00195436, 0.79774971, 0.05919705, ..., 0.41369375,\n",
              "         0.91669057, 0.61215167],\n",
              "        [0.18239098, 0.33961348, 0.68455381, ..., 0.08138931,\n",
              "         0.3221802 , 0.48887879],\n",
              "        [0.07043104, 0.57580784, 0.78402372, ..., 0.13711909,\n",
              "         0.8630706 , 0.20664975]],\n",
              "\n",
              "       [[0.21171158, 0.59764142, 0.44535077, ..., 0.62764161,\n",
              "         0.43978761, 0.78018192],\n",
              "        [0.34333803, 0.67325788, 0.82037455, ..., 0.28789318,\n",
              "         0.35709871, 0.34338484],\n",
              "        [0.08127315, 0.52284199, 0.87940015, ..., 0.73777151,\n",
              "         0.14803939, 0.25138792],\n",
              "        ...,\n",
              "        [0.68404921, 0.83672827, 0.01077244, ..., 0.20701973,\n",
              "         0.02537038, 0.89696503],\n",
              "        [0.65235744, 0.77311812, 0.70895461, ..., 0.55742702,\n",
              "         0.43813651, 0.86482444],\n",
              "        [0.23101731, 0.00900998, 0.36964712, ..., 0.73427433,\n",
              "         0.10261631, 0.94558255]],\n",
              "\n",
              "       [[0.95696056, 0.63078991, 0.57923466, ..., 0.33013828,\n",
              "         0.61761309, 0.70904621],\n",
              "        [0.24653759, 0.43241436, 0.58097451, ..., 0.66316001,\n",
              "         0.27549191, 0.89861083],\n",
              "        [0.29646828, 0.83370506, 0.26497788, ..., 0.04884722,\n",
              "         0.82099859, 0.88969248],\n",
              "        ...,\n",
              "        [0.43375878, 0.69055103, 0.79335112, ..., 0.44805215,\n",
              "         0.58923341, 0.70289735],\n",
              "        [0.80785626, 0.29888725, 0.03743115, ..., 0.35735703,\n",
              "         0.32981329, 0.45493279],\n",
              "        [0.48200115, 0.15430797, 0.9500413 , ..., 0.73475687,\n",
              "         0.97989174, 0.85979274]],\n",
              "\n",
              "       ...,\n",
              "\n",
              "       [[0.71962484, 0.76218681, 0.97703401, ..., 0.69189508,\n",
              "         0.27780502, 0.62832575],\n",
              "        [0.79057785, 0.01256303, 0.32298714, ..., 0.79643206,\n",
              "         0.14056518, 0.03480248],\n",
              "        [0.75352625, 0.97511604, 0.00714473, ..., 0.81148782,\n",
              "         0.44996423, 0.08028355],\n",
              "        ...,\n",
              "        [0.22882146, 0.37453465, 0.62226506, ..., 0.55915797,\n",
              "         0.37758199, 0.20248425],\n",
              "        [0.92908832, 0.41519087, 0.02840704, ..., 0.23481727,\n",
              "         0.80245878, 0.26092628],\n",
              "        [0.99219639, 0.59399802, 0.92010009, ..., 0.16063831,\n",
              "         0.10054542, 0.18340035]],\n",
              "\n",
              "       [[0.80573768, 0.55955978, 0.76513165, ..., 0.51765603,\n",
              "         0.36608201, 0.1410669 ],\n",
              "        [0.74899363, 0.29037519, 0.5824605 , ..., 0.11982776,\n",
              "         0.01292349, 0.8532431 ],\n",
              "        [0.57589168, 0.12094005, 0.32346141, ..., 0.46182307,\n",
              "         0.73984282, 0.24948034],\n",
              "        ...,\n",
              "        [0.11713023, 0.03901116, 0.97772244, ..., 0.45846027,\n",
              "         0.4803323 , 0.67580123],\n",
              "        [0.85276857, 0.42145428, 0.68852292, ..., 0.02236638,\n",
              "         0.06722691, 0.28802618],\n",
              "        [0.14907922, 0.91143134, 0.89373642, ..., 0.8105829 ,\n",
              "         0.73918293, 0.95782631]],\n",
              "\n",
              "       [[0.20025097, 0.14638907, 0.92496238, ..., 0.9446524 ,\n",
              "         0.70501265, 0.26632369],\n",
              "        [0.15926457, 0.57796751, 0.73804478, ..., 0.46739809,\n",
              "         0.30103591, 0.56879613],\n",
              "        [0.54338128, 0.78062522, 0.47317215, ..., 0.61095488,\n",
              "         0.60782478, 0.27036218],\n",
              "        ...,\n",
              "        [0.04089093, 0.59804434, 0.76988026, ..., 0.65724141,\n",
              "         0.62349807, 0.91216076],\n",
              "        [0.75981391, 0.13932359, 0.11590363, ..., 0.43676086,\n",
              "         0.04066734, 0.9585341 ],\n",
              "        [0.53071817, 0.66064166, 0.70495157, ..., 0.6348871 ,\n",
              "         0.84464825, 0.83752024]]])"
            ]
          },
          "metadata": {},
          "execution_count": 118
        }
      ]
    },
    {
      "cell_type": "markdown",
      "source": [
        "We can produce 1000 datapoints of a normally distributed data set by using np.random.normal()"
      ],
      "metadata": {
        "id": "-MmwtgxZxyjI"
      }
    },
    {
      "cell_type": "code",
      "source": [
        "mu, sigma = 0, 0.1 # mean and standard deviation\n",
        "s = np.random.normal(mu, sigma, 1000)\n",
        "s"
      ],
      "metadata": {
        "id": "XWNDWkr9xziJ",
        "outputId": "06290cd2-d433-4c8c-9fd5-288ab9a28932",
        "colab": {
          "base_uri": "https://localhost:8080/"
        }
      },
      "execution_count": null,
      "outputs": [
        {
          "output_type": "execute_result",
          "data": {
            "text/plain": [
              "array([-1.33084126e-02,  2.73798102e-02,  1.27147702e-01,  1.65273640e-01,\n",
              "        4.30355858e-02,  1.86433041e-02,  2.07034932e-01,  1.50690960e-01,\n",
              "       -2.18639629e-01,  1.21989586e-01,  8.96090774e-02,  2.03552593e-01,\n",
              "       -1.66284447e-02, -1.72077617e-01,  9.12442136e-02, -1.31910929e-01,\n",
              "        2.07454868e-02, -1.88311009e-02, -5.03737787e-02, -2.74426235e-02,\n",
              "        8.39975717e-02, -3.91374052e-02,  2.84055429e-02,  2.55633356e-03,\n",
              "       -7.81665697e-02, -1.23989374e-01,  1.98780821e-02,  1.06347508e-01,\n",
              "        1.39933249e-01,  9.17898643e-02,  3.98389212e-02, -1.86638342e-01,\n",
              "        1.32240392e-02,  6.11017055e-02, -4.31613887e-02, -3.80928915e-02,\n",
              "       -1.00439685e-01,  4.08329318e-02,  3.28154146e-02, -1.06011424e-01,\n",
              "       -4.56288934e-02,  1.32272617e-01,  2.89401634e-02,  1.10317653e-01,\n",
              "        7.83020971e-02, -1.39307529e-01,  1.64557986e-02,  1.40575900e-02,\n",
              "        1.07964781e-02,  8.70949693e-02,  3.14879394e-03,  8.59296825e-03,\n",
              "       -3.48922088e-02, -9.56083100e-03, -9.58800159e-02, -1.62798954e-01,\n",
              "       -6.40121914e-02,  1.77852066e-01, -5.23374781e-02,  5.48665704e-02,\n",
              "       -1.90453257e-02,  1.27534177e-01,  9.71404862e-02,  1.16382971e-01,\n",
              "        1.28833296e-01, -7.83700164e-02,  3.67663460e-03, -1.46011270e-01,\n",
              "       -8.32966292e-02,  6.84838054e-02, -7.93180625e-02, -1.23914069e-02,\n",
              "       -1.62041350e-01,  2.03539324e-02, -5.69352877e-02, -7.45690084e-03,\n",
              "       -1.42974818e-02,  2.06640753e-01, -5.22537334e-02, -7.82950504e-03,\n",
              "       -1.03006183e-01,  3.13373679e-02, -3.54453872e-02, -1.33847525e-02,\n",
              "       -1.39456620e-01, -1.93419904e-01,  3.08435804e-02,  1.23056737e-01,\n",
              "        4.46063476e-02,  3.88731931e-02, -2.35043231e-01, -4.88919144e-02,\n",
              "        8.46779344e-02,  9.05700343e-02,  1.01861224e-01, -1.11970903e-01,\n",
              "        8.66280882e-02,  7.70108519e-02, -9.35661440e-02, -6.42192238e-02,\n",
              "       -7.66987443e-02,  5.30548019e-02, -3.58219004e-02, -8.42462988e-02,\n",
              "        1.20673997e-01, -5.78173250e-03, -7.50949776e-02,  1.15333980e-01,\n",
              "       -1.42474387e-01, -4.60350192e-02,  9.47100874e-02, -1.23549012e-02,\n",
              "       -2.04939272e-02,  1.42216093e-02, -8.00430311e-02,  5.32936495e-02,\n",
              "       -8.03392309e-04,  1.30485849e-01,  1.47050130e-01, -7.27169022e-02,\n",
              "       -1.44324487e-01, -6.79339671e-02, -5.37270964e-02,  2.14364899e-01,\n",
              "       -2.04026325e-01, -1.85688386e-01,  3.82515769e-02, -1.85159594e-01,\n",
              "        1.07999145e-02,  1.50471130e-02,  7.96835155e-02,  1.75432504e-02,\n",
              "        3.17432070e-03,  1.61047301e-01, -5.61284449e-02,  1.48866359e-01,\n",
              "        5.90263434e-02, -1.44034125e-01, -5.08038015e-02,  1.89067661e-01,\n",
              "       -1.33234997e-02, -8.85074900e-02, -1.19221378e-02,  2.03329849e-01,\n",
              "       -5.51620087e-02, -4.07046718e-02, -1.18024442e-01, -1.09989248e-01,\n",
              "        1.95606301e-01, -2.83025198e-02,  1.34657403e-01,  8.64194300e-02,\n",
              "       -5.69690045e-02,  1.54820354e-01,  9.95239426e-02, -1.65675195e-01,\n",
              "        1.09762256e-01, -2.69894488e-02, -7.86297612e-02, -1.19011623e-01,\n",
              "        2.08905342e-01, -5.45797376e-02,  2.68742012e-02,  1.98389027e-02,\n",
              "        3.40227459e-02, -1.57299647e-02,  3.67726213e-02, -1.07406636e-01,\n",
              "        1.37273098e-01, -3.63291555e-02,  1.21244464e-01,  3.45451379e-02,\n",
              "        7.04614401e-02,  8.84144385e-03,  4.51929573e-02, -9.18015612e-02,\n",
              "       -1.25587622e-01,  1.30255821e-01,  2.05870932e-03, -4.98385798e-02,\n",
              "       -6.31370782e-02,  7.16089694e-02, -2.96119493e-02, -4.11577404e-02,\n",
              "        2.76207568e-02, -6.69309296e-03, -2.11039060e-02, -1.12265749e-01,\n",
              "       -3.92448806e-02,  3.98957269e-03, -1.16016020e-01, -9.25452712e-02,\n",
              "        9.50627420e-02, -3.39492603e-02, -6.48437901e-02,  9.59743809e-03,\n",
              "        3.89730933e-02, -1.18366600e-01,  1.46737900e-01, -8.03800060e-02,\n",
              "        2.23349824e-02, -1.25310859e-01, -1.45303505e-01, -1.57858625e-02,\n",
              "       -5.42499881e-02,  7.11254551e-02, -4.71583286e-03, -5.92344258e-02,\n",
              "        7.19404623e-02, -1.15987410e-02,  1.25021674e-02,  3.73363159e-02,\n",
              "        9.84781770e-02, -7.68039432e-02,  1.03627284e-01, -8.08019035e-02,\n",
              "        1.11541052e-01,  2.42872568e-02,  6.45835500e-02,  1.29364258e-01,\n",
              "       -8.32594860e-02, -6.19458016e-02, -1.76677370e-01, -1.10567152e-01,\n",
              "        7.79078169e-02, -3.49358555e-02,  1.24582390e-01,  6.70964233e-02,\n",
              "        6.12369527e-02, -6.57700136e-02, -7.58764687e-02,  2.43406801e-01,\n",
              "        7.59477178e-02,  4.51896506e-04,  7.51982738e-02, -4.39150793e-02,\n",
              "        1.04773463e-01, -1.27844871e-02,  1.00481321e-01,  6.62867582e-02,\n",
              "        9.82698190e-02, -4.04574746e-02, -4.06497958e-02,  1.73474675e-01,\n",
              "        6.05173031e-02,  3.03638446e-01,  2.24140876e-02, -5.60254073e-02,\n",
              "       -1.12010976e-01,  8.76517133e-02, -2.34933577e-01,  1.74842506e-01,\n",
              "       -1.92214818e-02, -1.28519414e-01, -5.60055254e-02, -4.26499309e-02,\n",
              "       -5.47577552e-02, -9.59010628e-02, -8.85844530e-02,  4.70100764e-02,\n",
              "       -2.06857650e-02, -9.48089403e-02,  1.59046497e-01, -2.39259700e-02,\n",
              "        6.31704089e-02,  1.06561137e-01, -6.15600017e-02,  8.82454116e-02,\n",
              "        1.20322381e-01, -2.17570423e-01,  7.36130280e-02,  3.78646444e-02,\n",
              "       -1.25899509e-01, -3.91741056e-03,  8.31263364e-02, -2.86075392e-02,\n",
              "       -1.03250089e-01, -7.76142792e-02,  1.83711992e-02, -9.21084170e-02,\n",
              "       -8.60174725e-02,  6.17305279e-02, -2.12400832e-01,  2.79514092e-02,\n",
              "        4.23656267e-02, -1.38388103e-02,  1.45036499e-02, -1.23595330e-01,\n",
              "       -6.24734745e-02,  1.66402518e-01,  4.46611509e-02,  9.41087855e-02,\n",
              "       -1.04980882e-01,  8.66640188e-02, -7.88934919e-02,  5.68084205e-02,\n",
              "       -6.54960012e-02,  4.71030399e-02,  6.52018208e-02,  3.82928585e-02,\n",
              "        1.28790274e-01, -1.21617132e-01,  1.20595362e-02,  5.70964763e-02,\n",
              "       -7.90249687e-02,  1.14146105e-01, -3.07851882e-02,  6.38552441e-02,\n",
              "       -8.05394324e-02, -3.55279733e-02, -2.91834213e-02,  1.62825261e-01,\n",
              "        6.08757449e-04, -1.72408397e-01, -3.46020744e-03,  1.39343048e-01,\n",
              "       -1.89462155e-01,  6.40820912e-02, -9.40995730e-03,  8.26738532e-02,\n",
              "       -7.68582673e-02,  1.51445840e-01, -1.54156217e-02,  4.56928903e-02,\n",
              "       -4.97180614e-02, -3.95286905e-02, -1.29620229e-02, -1.33375161e-01,\n",
              "       -1.01325632e-01,  1.29938188e-01,  9.09417671e-02,  1.36413662e-01,\n",
              "        2.55625892e-02,  9.47408032e-04,  2.18250033e-01,  3.78590257e-02,\n",
              "        2.08064944e-02, -2.43611018e-02, -5.26963109e-03,  7.29818993e-02,\n",
              "        4.35549737e-02,  9.87793586e-02,  2.60573625e-02,  2.80769681e-02,\n",
              "        3.96230406e-02, -2.15283139e-02, -2.13460152e-02, -1.88754556e-01,\n",
              "        2.20033785e-02, -9.42497197e-02, -3.31570117e-02, -3.41501613e-02,\n",
              "        5.94134107e-02,  1.13720768e-01, -3.53282397e-02, -1.37006162e-01,\n",
              "        2.58065381e-02, -6.42528312e-02, -1.16858009e-01,  4.99728401e-02,\n",
              "        1.65713356e-01,  2.34271620e-02,  3.67944285e-03,  1.49058048e-01,\n",
              "       -9.21789369e-02,  7.08830668e-02,  2.55789626e-02,  8.58819082e-03,\n",
              "       -1.28931318e-01,  9.68182727e-02, -1.59278294e-01,  1.19908658e-02,\n",
              "       -4.00192379e-02, -4.88748812e-02,  5.54839033e-02, -3.75841642e-02,\n",
              "        4.55242579e-02,  2.11950371e-03,  9.61024521e-02, -7.64049496e-02,\n",
              "       -9.91701496e-02,  8.66812232e-02, -1.20447682e-01, -1.01501477e-01,\n",
              "        2.50361741e-02,  5.13373409e-02,  5.36734906e-02, -4.55631864e-02,\n",
              "       -9.41728121e-03, -3.10248330e-02,  1.61847649e-02,  6.23774870e-02,\n",
              "        5.67510591e-02, -1.08800815e-01,  5.25858194e-02, -1.60725463e-02,\n",
              "        2.03879263e-01,  4.07278100e-02, -3.48687694e-02,  8.56708174e-02,\n",
              "        6.78017577e-02,  4.32911292e-02,  1.46585993e-01,  4.57187231e-02,\n",
              "        1.20615163e-01, -2.73150893e-02,  7.90839271e-02,  1.25409946e-01,\n",
              "       -2.41160551e-02, -1.01813995e-01, -1.11474778e-01,  1.90535308e-01,\n",
              "        1.93218274e-01, -1.68012403e-01,  1.61636792e-01,  2.52665177e-01,\n",
              "       -1.69890151e-02, -1.39184904e-02, -1.57924647e-01,  1.21867635e-02,\n",
              "       -1.24976124e-01,  4.40685857e-02, -2.59919086e-02,  4.19347679e-02,\n",
              "       -1.27155009e-01, -2.61212367e-02, -1.47357801e-01,  7.72679642e-03,\n",
              "        6.96902755e-02,  5.68321752e-02, -9.60376431e-03,  9.57714053e-02,\n",
              "        8.24420424e-02,  2.76848952e-02, -6.92413011e-02,  4.16155449e-02,\n",
              "        1.38009637e-01, -1.02210010e-01, -9.40185428e-02, -1.32194653e-01,\n",
              "        2.33144827e-02, -6.82553064e-02, -1.96804629e-03,  2.97133033e-02,\n",
              "       -3.14588792e-02, -1.33768584e-01,  6.80599570e-02,  1.71291572e-01,\n",
              "       -8.04124326e-03, -5.96102984e-02, -9.62408427e-02, -2.74315525e-02,\n",
              "        1.33908145e-01, -1.23695167e-02,  1.71161701e-01, -1.25456153e-01,\n",
              "       -2.13319885e-02,  1.68765190e-02,  2.71132602e-02,  9.02454453e-02,\n",
              "       -1.95603622e-02, -3.11347612e-02, -1.42040083e-01, -1.16983362e-01,\n",
              "       -6.73125396e-02,  4.89416673e-02,  5.69740933e-02, -1.30437078e-02,\n",
              "        5.98267944e-02, -8.19846855e-02,  4.39205891e-03,  7.18161695e-02,\n",
              "       -1.14393763e-01, -1.38574272e-01, -3.64626195e-03, -5.55029476e-02,\n",
              "       -1.00173530e-01, -3.13327010e-02, -4.24549072e-02,  6.70955527e-02,\n",
              "       -1.90462926e-02,  1.92387355e-01,  4.64399912e-02, -2.05349711e-01,\n",
              "        7.63027070e-02,  3.08788613e-02, -7.75499613e-02, -3.04121227e-01,\n",
              "        1.15618175e-01, -7.61703883e-02, -7.01037037e-02,  1.55983087e-02,\n",
              "        4.65695920e-02,  2.99887070e-01, -9.04106667e-02, -2.16914292e-01,\n",
              "        8.38854221e-02,  6.34490071e-02, -2.55873543e-02, -2.28365126e-01,\n",
              "       -4.25000683e-02,  2.54951781e-02, -1.40593129e-01, -5.79803520e-02,\n",
              "       -7.88243749e-03,  3.64863424e-02,  2.01966493e-02,  1.12806998e-02,\n",
              "       -5.59549345e-03, -5.31304421e-02,  6.06079914e-02, -1.37703961e-01,\n",
              "        3.36247486e-02, -2.16755424e-01, -1.01329420e-01,  6.41999210e-03,\n",
              "       -4.42825992e-02, -1.98136834e-01,  4.40879094e-02,  3.21689597e-02,\n",
              "       -1.71922124e-01, -4.91008931e-02, -1.03436143e-01,  9.13035505e-02,\n",
              "       -1.22988926e-01, -2.49454984e-02, -2.93079052e-01,  7.80062826e-02,\n",
              "        9.56029587e-02,  7.06677612e-02,  1.46835887e-01,  1.84657300e-02,\n",
              "        1.80088272e-01,  3.70675359e-02, -1.31540978e-01,  8.55558735e-02,\n",
              "        1.06479732e-01,  2.63773729e-02,  4.21694823e-03,  6.86926634e-02,\n",
              "       -9.94807202e-02, -1.20415495e-01,  1.30831796e-01, -8.65056227e-02,\n",
              "       -1.37241385e-01, -1.80849295e-01, -6.23302667e-02, -2.08991263e-01,\n",
              "        1.39864410e-01, -1.16731271e-01,  1.83631293e-02,  1.49590015e-03,\n",
              "       -1.08383426e-03, -1.99335336e-01,  9.36250087e-02,  1.17171781e-01,\n",
              "        6.99030470e-02, -9.01875595e-02,  4.52329691e-03, -2.43911340e-02,\n",
              "        5.49344170e-02, -7.60894494e-02, -1.40466223e-01,  2.89357364e-03,\n",
              "       -5.09796961e-02, -1.17049668e-01, -7.41539531e-02, -4.50006993e-02,\n",
              "        3.80290091e-02, -1.33418348e-02, -1.19060224e-01, -1.46673384e-01,\n",
              "        6.03922118e-02, -1.15100956e-01, -1.05246682e-01,  6.48632650e-02,\n",
              "        4.49932354e-02, -2.24054883e-01, -5.77436435e-02,  3.69782827e-06,\n",
              "       -1.31731044e-01, -1.03875657e-01, -3.59390541e-02,  3.02955375e-03,\n",
              "        4.11852523e-02,  5.55094723e-02, -3.92021841e-02,  9.76593860e-02,\n",
              "        1.15628019e-02, -6.98874544e-03,  1.36967340e-02,  1.92509823e-03,\n",
              "       -1.10325333e-02, -1.06343264e-01,  2.02337660e-01, -1.36039430e-02,\n",
              "        5.41237180e-02,  8.17174574e-02,  5.09389474e-02, -1.97342484e-03,\n",
              "        1.94315880e-01,  1.24364006e-01,  7.37655570e-02,  6.18566377e-03,\n",
              "        6.45986344e-02, -1.41719614e-02, -9.35768379e-02,  8.65387389e-02,\n",
              "        2.93245504e-02,  1.48607470e-01,  5.90414833e-02, -9.87269394e-02,\n",
              "       -4.06346759e-02, -1.00293492e-01, -1.78253689e-01, -3.53477597e-03,\n",
              "       -1.13396769e-01, -1.02746608e-02, -7.79383256e-02,  1.66588521e-03,\n",
              "        1.03121633e-01, -1.36834597e-01, -8.10880593e-02, -1.39771829e-02,\n",
              "       -4.03787595e-02,  7.53392598e-02, -8.53390215e-02, -1.00754972e-01,\n",
              "       -9.15496730e-02,  6.02523017e-02,  1.26599339e-01, -1.14529230e-01,\n",
              "       -1.50380858e-01, -1.60042750e-01, -8.78324850e-02, -2.91952826e-02,\n",
              "       -5.00408823e-02,  3.05630915e-01, -2.00891890e-01,  2.46563214e-01,\n",
              "       -4.39900140e-02, -2.78585778e-02,  1.05345038e-01, -1.46769243e-01,\n",
              "        3.12210389e-02,  1.18147594e-01,  1.47932894e-01, -7.48699438e-04,\n",
              "       -1.18598981e-02, -1.41448631e-01,  3.89565685e-02, -1.34248395e-01,\n",
              "       -2.29288900e-01,  5.40642637e-02, -2.45402692e-02,  5.78581085e-02,\n",
              "       -7.19059935e-02, -7.80185906e-02, -1.06754354e-02,  2.92661261e-02,\n",
              "       -2.66247782e-02, -1.30586220e-01,  1.77319533e-02,  2.88595797e-02,\n",
              "       -1.54308898e-01,  1.38656245e-02, -1.05058151e-01,  1.52560260e-01,\n",
              "        2.69660839e-02,  9.29851685e-02,  8.34731870e-02, -4.65673826e-02,\n",
              "        5.49824421e-02,  1.43271446e-01, -8.96170418e-03, -1.63779589e-02,\n",
              "       -6.32093254e-02, -1.85291996e-02, -1.62092036e-01, -2.45506299e-02,\n",
              "        2.47152483e-01, -4.69000051e-02,  1.51279710e-01,  9.67425913e-02,\n",
              "       -2.33071026e-02,  6.07899631e-02, -2.41954726e-02, -3.47799572e-02,\n",
              "       -1.63768732e-02, -1.81917375e-01,  5.15158747e-02, -7.85587030e-03,\n",
              "       -1.01068936e-01,  1.31163312e-02,  1.12761469e-01,  6.27209442e-02,\n",
              "       -8.41414599e-02,  1.35676693e-02, -7.10036065e-03,  3.99050560e-02,\n",
              "        2.64528984e-01, -8.10576497e-02, -6.76070105e-02,  1.19553202e-01,\n",
              "       -3.34818441e-03,  1.43597204e-01, -1.07365494e-02, -1.85505729e-02,\n",
              "       -6.33813701e-02,  7.12051663e-02,  6.54633121e-02, -8.59142876e-02,\n",
              "        4.11435750e-02, -6.07187941e-02,  6.93881323e-02, -1.96074030e-01,\n",
              "        1.02304424e-01,  8.84811186e-02, -3.28605892e-02,  4.95132714e-02,\n",
              "       -8.90995383e-02, -1.20279746e-01,  6.55457342e-02, -2.82388177e-02,\n",
              "        2.19778212e-01, -7.48289171e-02, -1.68617059e-01, -7.87175306e-02,\n",
              "       -3.53875451e-02, -1.14383287e-02,  1.86431943e-02, -6.53048249e-03,\n",
              "        3.63539709e-02,  5.78097689e-02, -1.71602761e-01, -1.81888311e-03,\n",
              "        1.05039485e-01,  9.40707295e-02,  1.47327347e-02, -5.22970946e-02,\n",
              "        7.89787934e-02, -2.12901329e-02, -7.73541821e-02, -1.63507266e-01,\n",
              "        8.80705118e-02, -1.10838797e-01, -1.34099580e-01,  6.78367006e-03,\n",
              "        7.03326815e-02, -1.50029123e-02,  1.35054219e-01, -1.06746929e-01,\n",
              "       -1.08333061e-01, -2.46340362e-02, -2.29879024e-01, -1.40474538e-01,\n",
              "        4.30996679e-02,  2.48164255e-02,  2.55402644e-01,  1.06116080e-01,\n",
              "        1.51006196e-01,  7.37672253e-02, -8.75725411e-02,  4.00500961e-02,\n",
              "       -2.96755904e-02, -9.37336149e-02, -6.38960293e-02, -2.07049172e-02,\n",
              "        1.48250064e-01,  1.92865496e-02, -3.77961111e-02, -2.67157747e-02,\n",
              "        1.97444345e-02, -3.23806992e-02,  1.36351028e-01, -1.07925133e-01,\n",
              "        1.60981645e-01, -3.84286644e-02,  9.69294173e-02, -7.49618248e-02,\n",
              "        5.14409213e-02,  1.73430194e-01, -9.76582858e-02,  8.07450739e-02,\n",
              "       -4.49702229e-02, -6.67371055e-02,  8.46530628e-02,  1.06488401e-01,\n",
              "        3.45097180e-02, -7.02290082e-02,  3.48157014e-02,  6.98915901e-02,\n",
              "        1.12524727e-01,  3.91774336e-02, -4.27365038e-02, -4.63678812e-02,\n",
              "        1.75820418e-01,  9.85365987e-02,  8.29377943e-02, -3.82503780e-03,\n",
              "       -1.95272137e-02, -5.32034496e-02,  1.76907413e-01, -9.94883017e-03,\n",
              "        8.35750150e-02, -3.15686951e-02, -2.03623315e-03, -6.43716571e-02,\n",
              "        8.87363500e-02, -2.77248665e-02,  2.46979344e-01, -8.83040750e-02,\n",
              "        1.50558054e-02,  2.63960108e-04,  5.64164407e-03, -9.11468990e-02,\n",
              "       -7.70039723e-02,  3.56544985e-02,  1.28194195e-01, -1.21860249e-01,\n",
              "        8.74841888e-02,  1.74627637e-01, -5.54220727e-02, -1.99039352e-01,\n",
              "        1.46420938e-01,  2.18383921e-02,  1.35598893e-01, -9.72733806e-02,\n",
              "        1.04514133e-01, -5.86130633e-02, -8.95810055e-02,  1.02701469e-01,\n",
              "       -5.28944345e-02,  5.48722076e-02, -6.42751705e-02,  9.01313011e-02,\n",
              "        9.40177691e-02, -7.44591379e-02, -6.61294917e-02, -1.35243833e-02,\n",
              "        1.18410225e-01,  9.72768037e-02, -9.63103527e-02, -1.33212131e-01,\n",
              "       -8.21628006e-03, -3.24850817e-02,  7.12645579e-02, -1.91355463e-01,\n",
              "       -9.84422413e-02,  1.33232692e-01,  1.01494278e-01, -2.98585706e-02,\n",
              "        1.97584747e-02,  5.17876560e-02,  2.27089189e-02,  7.55925641e-02,\n",
              "        9.00408579e-02,  1.44818214e-01, -7.01936701e-02, -9.99433147e-03,\n",
              "       -1.15991196e-02, -1.41268644e-01, -9.94538674e-02, -3.83814608e-02,\n",
              "        1.71695907e-02, -8.41238142e-03, -2.07542484e-02,  4.78718036e-02,\n",
              "        8.29897871e-02,  1.13085327e-01, -2.00010124e-01, -1.07491072e-01,\n",
              "       -1.49268696e-01, -1.16988529e-01, -1.44789986e-01, -2.07917015e-01,\n",
              "        2.02875254e-02, -1.62792531e-02,  6.99350507e-02,  9.19609552e-02,\n",
              "       -2.92440240e-02,  4.39587449e-02,  1.20440572e-01,  4.88562762e-02,\n",
              "        3.90185825e-02, -4.29319628e-02, -1.44110075e-01, -1.23263608e-01,\n",
              "       -3.88774698e-02, -1.64595482e-03,  2.41169006e-02, -1.56899571e-02,\n",
              "       -5.00206593e-02, -2.07181558e-01,  9.90334227e-02, -3.22580076e-02,\n",
              "        7.07230222e-03, -7.27366814e-02,  3.78640163e-02,  7.82867287e-02,\n",
              "       -8.49825792e-02,  6.72912130e-02,  1.31097657e-01, -3.54631177e-02,\n",
              "        1.79960089e-02,  6.06762776e-02, -5.35423161e-02, -2.62880450e-02,\n",
              "        7.38901748e-02,  7.64267027e-02, -4.16791436e-02,  7.37538093e-02,\n",
              "        1.23085582e-02,  1.08172629e-01,  2.01049212e-01,  5.94372625e-02,\n",
              "        9.66814123e-02,  1.76556942e-02, -4.15505001e-02,  7.87727000e-02,\n",
              "        6.51209132e-02,  1.03435712e-01, -9.76550022e-02, -9.85757708e-02,\n",
              "       -1.73299264e-02,  1.41274188e-02, -1.27925771e-01,  4.58082781e-02,\n",
              "       -6.44345971e-02, -1.00670343e-01, -2.17115169e-02,  2.36586011e-02,\n",
              "       -2.18847350e-01,  5.61840158e-03, -1.89228941e-01,  1.93865641e-01,\n",
              "       -1.04350141e-01, -4.19306923e-02, -4.92210725e-02, -1.19213976e-01,\n",
              "        1.02514905e-01,  2.51784326e-02, -1.18148146e-01, -5.93265664e-02,\n",
              "       -1.71753956e-01,  7.45046715e-02,  5.19154476e-02,  3.29271457e-03,\n",
              "        9.36444785e-02,  2.35305230e-02,  7.38259791e-02, -2.26685043e-02,\n",
              "       -1.50601537e-02, -1.81849539e-02,  9.68168427e-02, -9.81058998e-02,\n",
              "        8.05754577e-02,  3.13966715e-01,  9.17448068e-03,  9.34271899e-02,\n",
              "       -9.84324254e-02, -7.65587476e-02, -2.78951618e-02, -2.96311056e-01,\n",
              "       -2.42562274e-02, -4.86424363e-03, -1.21226692e-01, -9.29975473e-02,\n",
              "        3.93758801e-02, -1.02888656e-01,  2.31365882e-02, -1.13353734e-01,\n",
              "        2.10353208e-01, -4.44760256e-02, -1.06706268e-01, -1.24705980e-01,\n",
              "       -7.71245600e-02, -3.78889230e-02,  1.28670063e-01,  1.63660763e-01,\n",
              "        1.76845979e-01, -1.40761853e-01, -7.85271369e-02,  9.10436392e-02,\n",
              "        1.31081613e-01,  1.70911188e-02, -5.93000908e-02, -1.39578904e-01,\n",
              "        9.89951238e-02, -1.14571032e-01, -2.26774413e-02,  5.11522085e-02,\n",
              "       -1.35165240e-01,  1.81494923e-01,  1.84927202e-01, -1.06716492e-01,\n",
              "       -9.71677006e-02,  1.46057591e-02, -7.55119041e-02,  4.13360521e-02])"
            ]
          },
          "metadata": {},
          "execution_count": 120
        }
      ]
    },
    {
      "cell_type": "markdown",
      "source": [
        "Exercise\n",
        "\n",
        "Simulate a six-sided dice using numpy.random.choice(), generate a list of values you would obtain from 10 throws.\n",
        "Simulate a two-sided coin toss that is NOT fair: it is twice as likely to have head than tails."
      ],
      "metadata": {
        "id": "Lb8AatFtyBLG"
      }
    },
    {
      "cell_type": "code",
      "source": [
        "throw_dice= np.random.choice([1,2,3,4,5,6], 10)\n",
        "throw_dice"
      ],
      "metadata": {
        "id": "QAbjVk1kyDEy",
        "outputId": "c4f409f7-3536-4731-b365-1a410ca06372",
        "colab": {
          "base_uri": "https://localhost:8080/"
        }
      },
      "execution_count": null,
      "outputs": [
        {
          "output_type": "execute_result",
          "data": {
            "text/plain": [
              "array([6, 6, 6, 6, 1, 3, 4, 5, 4, 5])"
            ]
          },
          "metadata": {},
          "execution_count": 121
        }
      ]
    },
    {
      "cell_type": "code",
      "source": [
        "toss=np.random.choice([0,1,1],10)\n",
        "toss"
      ],
      "metadata": {
        "id": "brM2LBeSxqcD",
        "outputId": "ea40f4a7-ea6f-4730-ff8e-d223da06932e",
        "colab": {
          "base_uri": "https://localhost:8080/"
        }
      },
      "execution_count": null,
      "outputs": [
        {
          "output_type": "execute_result",
          "data": {
            "text/plain": [
              "array([1, 1, 0, 0, 1, 0, 1, 1, 1, 0])"
            ]
          },
          "metadata": {},
          "execution_count": 122
        }
      ]
    },
    {
      "cell_type": "code",
      "source": [],
      "metadata": {
        "id": "LUXo3xhQyanL"
      },
      "execution_count": null,
      "outputs": []
    }
  ]
}