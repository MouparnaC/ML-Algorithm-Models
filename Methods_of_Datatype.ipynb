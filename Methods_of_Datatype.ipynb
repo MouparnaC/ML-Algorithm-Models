{
  "nbformat": 4,
  "nbformat_minor": 0,
  "metadata": {
    "colab": {
      "name": "Methods of Datatype.ipynb",
      "provenance": []
    },
    "kernelspec": {
      "name": "python3",
      "display_name": "Python 3"
    },
    "language_info": {
      "name": "python"
    }
  },
  "cells": [
    {
      "cell_type": "code",
      "execution_count": null,
      "metadata": {
        "id": "9QF9jv_3nI_Z"
      },
      "outputs": [],
      "source": [
        ""
      ]
    },
    {
      "cell_type": "markdown",
      "source": [
        "Creating a List A"
      ],
      "metadata": {
        "id": "z88Zjz_rnZhO"
      }
    },
    {
      "cell_type": "code",
      "source": [
        "dir(list)"
      ],
      "metadata": {
        "colab": {
          "base_uri": "https://localhost:8080/"
        },
        "id": "0ADHVDt5147Q",
        "outputId": "28ae3132-482e-4600-8fc4-7a7f7e1ccb4c"
      },
      "execution_count": 93,
      "outputs": [
        {
          "output_type": "execute_result",
          "data": {
            "text/plain": [
              "['__add__',\n",
              " '__class__',\n",
              " '__contains__',\n",
              " '__delattr__',\n",
              " '__delitem__',\n",
              " '__dir__',\n",
              " '__doc__',\n",
              " '__eq__',\n",
              " '__format__',\n",
              " '__ge__',\n",
              " '__getattribute__',\n",
              " '__getitem__',\n",
              " '__gt__',\n",
              " '__hash__',\n",
              " '__iadd__',\n",
              " '__imul__',\n",
              " '__init__',\n",
              " '__init_subclass__',\n",
              " '__iter__',\n",
              " '__le__',\n",
              " '__len__',\n",
              " '__lt__',\n",
              " '__mul__',\n",
              " '__ne__',\n",
              " '__new__',\n",
              " '__reduce__',\n",
              " '__reduce_ex__',\n",
              " '__repr__',\n",
              " '__reversed__',\n",
              " '__rmul__',\n",
              " '__setattr__',\n",
              " '__setitem__',\n",
              " '__sizeof__',\n",
              " '__str__',\n",
              " '__subclasshook__',\n",
              " 'append',\n",
              " 'clear',\n",
              " 'copy',\n",
              " 'count',\n",
              " 'extend',\n",
              " 'index',\n",
              " 'insert',\n",
              " 'pop',\n",
              " 'remove',\n",
              " 'reverse',\n",
              " 'sort']"
            ]
          },
          "metadata": {},
          "execution_count": 93
        }
      ]
    },
    {
      "cell_type": "code",
      "source": [
        "A=[1,2,3,'me']"
      ],
      "metadata": {
        "id": "Q65TaTS0ngg1"
      },
      "execution_count": 1,
      "outputs": []
    },
    {
      "cell_type": "code",
      "source": [
        "A"
      ],
      "metadata": {
        "colab": {
          "base_uri": "https://localhost:8080/"
        },
        "id": "3PQTLQoHnnW7",
        "outputId": "85a13a23-56bd-41a9-f8ef-a3b4d55bbbff"
      },
      "execution_count": 2,
      "outputs": [
        {
          "output_type": "execute_result",
          "data": {
            "text/plain": [
              "[1, 2, 3, 'me']"
            ]
          },
          "metadata": {},
          "execution_count": 2
        }
      ]
    },
    {
      "cell_type": "code",
      "source": [
        ""
      ],
      "metadata": {
        "id": "2_yZS0kRnrlZ"
      },
      "execution_count": null,
      "outputs": []
    },
    {
      "cell_type": "markdown",
      "source": [
        "append() Adds an element at the end of the list"
      ],
      "metadata": {
        "id": "LgoroE6dn2-q"
      }
    },
    {
      "cell_type": "code",
      "source": [
        "A.append(7)"
      ],
      "metadata": {
        "id": "NzOPc7uYn9Kn"
      },
      "execution_count": 3,
      "outputs": []
    },
    {
      "cell_type": "code",
      "source": [
        "A"
      ],
      "metadata": {
        "colab": {
          "base_uri": "https://localhost:8080/"
        },
        "id": "ryIZAwoUoKs1",
        "outputId": "01795e9a-d327-4de2-f9bb-a73c5e8a169e"
      },
      "execution_count": 5,
      "outputs": [
        {
          "output_type": "execute_result",
          "data": {
            "text/plain": [
              "[1, 2, 3, 'me', 7]"
            ]
          },
          "metadata": {},
          "execution_count": 5
        }
      ]
    },
    {
      "cell_type": "code",
      "source": [
        "a=[1,2,3,4,5]"
      ],
      "metadata": {
        "id": "XahtHYw0oLka"
      },
      "execution_count": 9,
      "outputs": []
    },
    {
      "cell_type": "code",
      "source": [
        "a.sort()"
      ],
      "metadata": {
        "id": "0p9ybjmaop6j"
      },
      "execution_count": 10,
      "outputs": []
    },
    {
      "cell_type": "markdown",
      "source": [
        "sort() to sort the list "
      ],
      "metadata": {
        "id": "UDYc89o3oicB"
      }
    },
    {
      "cell_type": "markdown",
      "source": [
        "reverse() \tReverses the order of the list"
      ],
      "metadata": {
        "id": "UIfhVISBpPyN"
      }
    },
    {
      "cell_type": "code",
      "source": [
        "a.reverse()"
      ],
      "metadata": {
        "id": "kDQZrZ9GpTEU"
      },
      "execution_count": 11,
      "outputs": []
    },
    {
      "cell_type": "markdown",
      "source": [
        "inset() Adds an element at the specified position"
      ],
      "metadata": {
        "id": "BHsOklJcpize"
      }
    },
    {
      "cell_type": "code",
      "source": [
        "a.insert(0,6)"
      ],
      "metadata": {
        "id": "mso4SKPNplDu"
      },
      "execution_count": 12,
      "outputs": []
    },
    {
      "cell_type": "code",
      "source": [
        "a"
      ],
      "metadata": {
        "colab": {
          "base_uri": "https://localhost:8080/"
        },
        "id": "5dL6gm5qoX6J",
        "outputId": "fee4268f-a45b-483b-bf46-f69847aee431"
      },
      "execution_count": 13,
      "outputs": [
        {
          "output_type": "execute_result",
          "data": {
            "text/plain": [
              "[6, 5, 4, 3, 2, 1]"
            ]
          },
          "metadata": {},
          "execution_count": 13
        }
      ]
    },
    {
      "cell_type": "markdown",
      "source": [
        "index() \tReturns the index of the first element with the specified value"
      ],
      "metadata": {
        "id": "u1CET9atprse"
      }
    },
    {
      "cell_type": "code",
      "source": [
        "a[2]"
      ],
      "metadata": {
        "colab": {
          "base_uri": "https://localhost:8080/"
        },
        "id": "l0lbNZ69pxE_",
        "outputId": "967fdd49-c49d-4c58-afad-46023c204740"
      },
      "execution_count": 15,
      "outputs": [
        {
          "output_type": "execute_result",
          "data": {
            "text/plain": [
              "4"
            ]
          },
          "metadata": {},
          "execution_count": 15
        }
      ]
    },
    {
      "cell_type": "markdown",
      "source": [
        "extend() Add the elements of a list (or any iterable), to the end of the current list"
      ],
      "metadata": {
        "id": "VhKhGi0Bp-jd"
      }
    },
    {
      "cell_type": "code",
      "source": [
        "b=[8,9]\n",
        "a.extend(b)"
      ],
      "metadata": {
        "id": "0gWeZ5LbqEk-"
      },
      "execution_count": 19,
      "outputs": []
    },
    {
      "cell_type": "code",
      "source": [
        "a"
      ],
      "metadata": {
        "colab": {
          "base_uri": "https://localhost:8080/"
        },
        "id": "TqLTyNgNppZz",
        "outputId": "ae2101ba-e025-46c2-f0d3-f692a8accbb7"
      },
      "execution_count": 20,
      "outputs": [
        {
          "output_type": "execute_result",
          "data": {
            "text/plain": [
              "[6, 5, 4, 3, 2, 1, 8, 9]"
            ]
          },
          "metadata": {},
          "execution_count": 20
        }
      ]
    },
    {
      "cell_type": "markdown",
      "source": [
        "count() Returns the number of elements with the specified value"
      ],
      "metadata": {
        "id": "nLulkWk_q3cq"
      }
    },
    {
      "cell_type": "code",
      "source": [
        "a.count(9)"
      ],
      "metadata": {
        "colab": {
          "base_uri": "https://localhost:8080/"
        },
        "id": "5eIg2q6Sq6aE",
        "outputId": "bd296ce8-3a00-43b0-9715-55d7361151a2"
      },
      "execution_count": 22,
      "outputs": [
        {
          "output_type": "execute_result",
          "data": {
            "text/plain": [
              "1"
            ]
          },
          "metadata": {},
          "execution_count": 22
        }
      ]
    },
    {
      "cell_type": "markdown",
      "source": [
        "copy() Returns a copy of the list"
      ],
      "metadata": {
        "id": "67Vj94msrQOe"
      }
    },
    {
      "cell_type": "code",
      "source": [
        "a.copy()"
      ],
      "metadata": {
        "colab": {
          "base_uri": "https://localhost:8080/"
        },
        "id": "n7vbOnm5rYxP",
        "outputId": "5a00b50b-ad71-4383-bb5e-dba1ba4162be"
      },
      "execution_count": 23,
      "outputs": [
        {
          "output_type": "execute_result",
          "data": {
            "text/plain": [
              "[6, 5, 4, 3, 2, 1, 8, 9]"
            ]
          },
          "metadata": {},
          "execution_count": 23
        }
      ]
    },
    {
      "cell_type": "markdown",
      "source": [
        "pop() Removes the element at the specified position"
      ],
      "metadata": {
        "id": "XmqK24BKrgR-"
      }
    },
    {
      "cell_type": "code",
      "source": [
        "a.pop(2)"
      ],
      "metadata": {
        "colab": {
          "base_uri": "https://localhost:8080/"
        },
        "id": "c--d1488riWf",
        "outputId": "8a675c6a-33aa-4e2e-d93b-2a12925332b5"
      },
      "execution_count": 24,
      "outputs": [
        {
          "output_type": "execute_result",
          "data": {
            "text/plain": [
              "4"
            ]
          },
          "metadata": {},
          "execution_count": 24
        }
      ]
    },
    {
      "cell_type": "code",
      "source": [
        "a"
      ],
      "metadata": {
        "colab": {
          "base_uri": "https://localhost:8080/"
        },
        "id": "_TqWfuqTqwB1",
        "outputId": "2763ca88-ef22-4980-c288-35e1f3102a91"
      },
      "execution_count": 25,
      "outputs": [
        {
          "output_type": "execute_result",
          "data": {
            "text/plain": [
              "[6, 5, 3, 2, 1, 8, 9]"
            ]
          },
          "metadata": {},
          "execution_count": 25
        }
      ]
    },
    {
      "cell_type": "markdown",
      "source": [
        "\t clear() Removes all the elements from the list"
      ],
      "metadata": {
        "id": "HouBx_aYrwlJ"
      }
    },
    {
      "cell_type": "code",
      "source": [
        "a.clear()"
      ],
      "metadata": {
        "id": "nRf17v_-r0cw"
      },
      "execution_count": 26,
      "outputs": []
    },
    {
      "cell_type": "code",
      "source": [
        "a"
      ],
      "metadata": {
        "colab": {
          "base_uri": "https://localhost:8080/"
        },
        "id": "uqr5NPJJroko",
        "outputId": "7eac294e-917e-4e83-b795-884dbeaacade"
      },
      "execution_count": 27,
      "outputs": [
        {
          "output_type": "execute_result",
          "data": {
            "text/plain": [
              "[]"
            ]
          },
          "metadata": {},
          "execution_count": 27
        }
      ]
    },
    {
      "cell_type": "code",
      "source": [
        "dir(set)"
      ],
      "metadata": {
        "colab": {
          "base_uri": "https://localhost:8080/"
        },
        "id": "M7ArZtC-2AfQ",
        "outputId": "eb6de482-5e52-4748-9869-6e74b97012bf"
      },
      "execution_count": 94,
      "outputs": [
        {
          "output_type": "execute_result",
          "data": {
            "text/plain": [
              "['__and__',\n",
              " '__class__',\n",
              " '__contains__',\n",
              " '__delattr__',\n",
              " '__dir__',\n",
              " '__doc__',\n",
              " '__eq__',\n",
              " '__format__',\n",
              " '__ge__',\n",
              " '__getattribute__',\n",
              " '__gt__',\n",
              " '__hash__',\n",
              " '__iand__',\n",
              " '__init__',\n",
              " '__init_subclass__',\n",
              " '__ior__',\n",
              " '__isub__',\n",
              " '__iter__',\n",
              " '__ixor__',\n",
              " '__le__',\n",
              " '__len__',\n",
              " '__lt__',\n",
              " '__ne__',\n",
              " '__new__',\n",
              " '__or__',\n",
              " '__rand__',\n",
              " '__reduce__',\n",
              " '__reduce_ex__',\n",
              " '__repr__',\n",
              " '__ror__',\n",
              " '__rsub__',\n",
              " '__rxor__',\n",
              " '__setattr__',\n",
              " '__sizeof__',\n",
              " '__str__',\n",
              " '__sub__',\n",
              " '__subclasshook__',\n",
              " '__xor__',\n",
              " 'add',\n",
              " 'clear',\n",
              " 'copy',\n",
              " 'difference',\n",
              " 'difference_update',\n",
              " 'discard',\n",
              " 'intersection',\n",
              " 'intersection_update',\n",
              " 'isdisjoint',\n",
              " 'issubset',\n",
              " 'issuperset',\n",
              " 'pop',\n",
              " 'remove',\n",
              " 'symmetric_difference',\n",
              " 'symmetric_difference_update',\n",
              " 'union',\n",
              " 'update']"
            ]
          },
          "metadata": {},
          "execution_count": 94
        }
      ]
    },
    {
      "cell_type": "markdown",
      "source": [
        "Creating a set s"
      ],
      "metadata": {
        "id": "ety583bJr5-e"
      }
    },
    {
      "cell_type": "code",
      "source": [
        "s={'me','you','her',2,4,6}"
      ],
      "metadata": {
        "id": "2nKMJd_6sALm"
      },
      "execution_count": 28,
      "outputs": []
    },
    {
      "cell_type": "code",
      "source": [
        "s"
      ],
      "metadata": {
        "colab": {
          "base_uri": "https://localhost:8080/"
        },
        "id": "-DS-qco4r3Jp",
        "outputId": "5433ffcd-37a8-4f20-b7cd-72c62def2d0c"
      },
      "execution_count": 29,
      "outputs": [
        {
          "output_type": "execute_result",
          "data": {
            "text/plain": [
              "{2, 4, 6, 'her', 'me', 'you'}"
            ]
          },
          "metadata": {},
          "execution_count": 29
        }
      ]
    },
    {
      "cell_type": "markdown",
      "source": [
        "add() Adds an element to the se"
      ],
      "metadata": {
        "id": "eGyBgHnFsQSm"
      }
    },
    {
      "cell_type": "code",
      "source": [
        "s.add(8)"
      ],
      "metadata": {
        "id": "iA0kqmUksUYG"
      },
      "execution_count": 30,
      "outputs": []
    },
    {
      "cell_type": "markdown",
      "source": [
        "copy()Returns a copy of the set"
      ],
      "metadata": {
        "id": "0c2ccAo7sZlW"
      }
    },
    {
      "cell_type": "code",
      "source": [
        "s.copy()"
      ],
      "metadata": {
        "colab": {
          "base_uri": "https://localhost:8080/"
        },
        "id": "MIi3R-aMshRu",
        "outputId": "cd8996e7-8daa-4e84-c795-1c34463901ba"
      },
      "execution_count": 31,
      "outputs": [
        {
          "output_type": "execute_result",
          "data": {
            "text/plain": [
              "{2, 4, 6, 8, 'her', 'me', 'you'}"
            ]
          },
          "metadata": {},
          "execution_count": 31
        }
      ]
    },
    {
      "cell_type": "code",
      "source": [
        "#creating another set\n",
        "r={1,3,5,8}"
      ],
      "metadata": {
        "id": "F3rq9rT9sH2y"
      },
      "execution_count": 34,
      "outputs": []
    },
    {
      "cell_type": "markdown",
      "source": [
        "difference() \tReturns a set containing the difference between two or more sets"
      ],
      "metadata": {
        "id": "0SZbo4WJs27O"
      }
    },
    {
      "cell_type": "code",
      "source": [
        "s.difference(r)"
      ],
      "metadata": {
        "colab": {
          "base_uri": "https://localhost:8080/"
        },
        "id": "GVxHfs4js5PO",
        "outputId": "6e589d8a-2e11-49a4-a42b-ab4e51ea705e"
      },
      "execution_count": 35,
      "outputs": [
        {
          "output_type": "execute_result",
          "data": {
            "text/plain": [
              "{2, 4, 6, 'her', 'me', 'you'}"
            ]
          },
          "metadata": {},
          "execution_count": 35
        }
      ]
    },
    {
      "cell_type": "markdown",
      "source": [
        "difference_update() Removes the items in this set that are also included in another, specified set"
      ],
      "metadata": {
        "id": "spd6zgmGtNxu"
      }
    },
    {
      "cell_type": "code",
      "source": [
        "s.difference_update(r)"
      ],
      "metadata": {
        "id": "7zNEvO9FtVxA"
      },
      "execution_count": 36,
      "outputs": []
    },
    {
      "cell_type": "markdown",
      "source": [
        "discard() Remove the specified item"
      ],
      "metadata": {
        "id": "5-UeIzCytbJe"
      }
    },
    {
      "cell_type": "code",
      "source": [
        "s.discard('you')"
      ],
      "metadata": {
        "id": "Ac9XmAiPthGQ"
      },
      "execution_count": 37,
      "outputs": []
    },
    {
      "cell_type": "markdown",
      "source": [
        "intersection() Returns a set, that is the intersection of two other sets"
      ],
      "metadata": {
        "id": "WCe1fNO4ttP8"
      }
    },
    {
      "cell_type": "code",
      "source": [
        "s.intersection(r)"
      ],
      "metadata": {
        "colab": {
          "base_uri": "https://localhost:8080/"
        },
        "id": "cuTwp9eBtvuN",
        "outputId": "c910d6a8-aa4e-4c40-f359-556cffab88e1"
      },
      "execution_count": 38,
      "outputs": [
        {
          "output_type": "execute_result",
          "data": {
            "text/plain": [
              "set()"
            ]
          },
          "metadata": {},
          "execution_count": 38
        }
      ]
    },
    {
      "cell_type": "markdown",
      "source": [
        "intersection_update()Removes the items in this set that are not present in other, specified set(s)"
      ],
      "metadata": {
        "id": "s2rSFw_6t-Wt"
      }
    },
    {
      "cell_type": "code",
      "source": [
        "s.intersection_update(r)"
      ],
      "metadata": {
        "id": "EtuXsXeuuJiI"
      },
      "execution_count": 40,
      "outputs": []
    },
    {
      "cell_type": "markdown",
      "source": [
        "isdisjoint() Returns whether two sets have a intersection or not"
      ],
      "metadata": {
        "id": "LAHjLbRfuWPc"
      }
    },
    {
      "cell_type": "code",
      "source": [
        "s.isdisjoint(r)"
      ],
      "metadata": {
        "colab": {
          "base_uri": "https://localhost:8080/"
        },
        "id": "csdeH8QuuYlp",
        "outputId": "c1cbaca1-29ed-4fac-fa07-782f68b6f542"
      },
      "execution_count": 41,
      "outputs": [
        {
          "output_type": "execute_result",
          "data": {
            "text/plain": [
              "True"
            ]
          },
          "metadata": {},
          "execution_count": 41
        }
      ]
    },
    {
      "cell_type": "markdown",
      "source": [
        "issubset() Returns whether another set contains this set or not"
      ],
      "metadata": {
        "id": "aRM3F7jDurtp"
      }
    },
    {
      "cell_type": "code",
      "source": [
        "s.issubset(r)"
      ],
      "metadata": {
        "colab": {
          "base_uri": "https://localhost:8080/"
        },
        "id": "AnJaEIteuyM8",
        "outputId": "b706b3e7-b540-4293-e10e-62be46f31a0a"
      },
      "execution_count": 43,
      "outputs": [
        {
          "output_type": "execute_result",
          "data": {
            "text/plain": [
              "True"
            ]
          },
          "metadata": {},
          "execution_count": 43
        }
      ]
    },
    {
      "cell_type": "markdown",
      "source": [
        "issuperset() Returns whether this set contains another set or not"
      ],
      "metadata": {
        "id": "yM9dCngSu4T6"
      }
    },
    {
      "cell_type": "code",
      "source": [
        "s.issuperset(r)"
      ],
      "metadata": {
        "colab": {
          "base_uri": "https://localhost:8080/"
        },
        "id": "w6AVt-HZu-16",
        "outputId": "1d6ace80-525a-47c4-ea7d-c5b757b41f8e"
      },
      "execution_count": 44,
      "outputs": [
        {
          "output_type": "execute_result",
          "data": {
            "text/plain": [
              "False"
            ]
          },
          "metadata": {},
          "execution_count": 44
        }
      ]
    },
    {
      "cell_type": "markdown",
      "source": [
        "pop() Removes an element from the set"
      ],
      "metadata": {
        "id": "GgcQCPu2vUNi"
      }
    },
    {
      "cell_type": "code",
      "source": [
        "r.pop()"
      ],
      "metadata": {
        "colab": {
          "base_uri": "https://localhost:8080/"
        },
        "id": "-NFAVV3VvVyM",
        "outputId": "800df3c2-ddcc-42a8-f7ae-3689a6a5327b"
      },
      "execution_count": 49,
      "outputs": [
        {
          "output_type": "execute_result",
          "data": {
            "text/plain": [
              "8"
            ]
          },
          "metadata": {},
          "execution_count": 49
        }
      ]
    },
    {
      "cell_type": "markdown",
      "source": [
        "remove() Removes the specified element"
      ],
      "metadata": {
        "id": "OXTkcmbiwCl5"
      }
    },
    {
      "cell_type": "code",
      "source": [
        "r.remove(3)"
      ],
      "metadata": {
        "id": "HtZZhwbKwEhS"
      },
      "execution_count": 54,
      "outputs": []
    },
    {
      "cell_type": "markdown",
      "source": [
        "symmetric_difference() Returns a set with the symmetric differences of two sets"
      ],
      "metadata": {
        "id": "eIAi-oHiwiYg"
      }
    },
    {
      "cell_type": "code",
      "source": [
        "s.symmetric_difference(r)"
      ],
      "metadata": {
        "colab": {
          "base_uri": "https://localhost:8080/"
        },
        "id": "43-naoJvwrE1",
        "outputId": "964f3059-af1b-4e65-db5f-4eee504cbc58"
      },
      "execution_count": 55,
      "outputs": [
        {
          "output_type": "execute_result",
          "data": {
            "text/plain": [
              "{1, 5}"
            ]
          },
          "metadata": {},
          "execution_count": 55
        }
      ]
    },
    {
      "cell_type": "markdown",
      "source": [
        "symmetice_difference_update() inserts the symmetric differences from this set and another"
      ],
      "metadata": {
        "id": "m2KpoZZLwyZh"
      }
    },
    {
      "cell_type": "code",
      "source": [
        "s.symmetric_difference_update(r)"
      ],
      "metadata": {
        "id": "72RxbOYsw7o6"
      },
      "execution_count": 56,
      "outputs": []
    },
    {
      "cell_type": "markdown",
      "source": [
        "union() Return a set containing the union of sets"
      ],
      "metadata": {
        "id": "f5oG7m45xDee"
      }
    },
    {
      "cell_type": "code",
      "source": [
        "s.union(r)"
      ],
      "metadata": {
        "colab": {
          "base_uri": "https://localhost:8080/"
        },
        "id": "-UelIZUVxFuJ",
        "outputId": "c41696e1-72d8-4b26-9f3e-f0c136eac05f"
      },
      "execution_count": 57,
      "outputs": [
        {
          "output_type": "execute_result",
          "data": {
            "text/plain": [
              "{1, 5}"
            ]
          },
          "metadata": {},
          "execution_count": 57
        }
      ]
    },
    {
      "cell_type": "markdown",
      "source": [
        "to clear the set clear()"
      ],
      "metadata": {
        "id": "7ZG3VoDOxTDh"
      }
    },
    {
      "cell_type": "code",
      "source": [
        "s.clear()"
      ],
      "metadata": {
        "id": "hCngEyi2xWNh"
      },
      "execution_count": 58,
      "outputs": []
    },
    {
      "cell_type": "code",
      "source": [
        "r.clear()"
      ],
      "metadata": {
        "id": "qdnODsbKstxW"
      },
      "execution_count": 59,
      "outputs": []
    },
    {
      "cell_type": "code",
      "source": [
        "s={1,2,3}\n",
        "r={4,5,6}"
      ],
      "metadata": {
        "id": "kmYKclB0xZxs"
      },
      "execution_count": 60,
      "outputs": []
    },
    {
      "cell_type": "code",
      "source": [
        "s.union(r)"
      ],
      "metadata": {
        "colab": {
          "base_uri": "https://localhost:8080/"
        },
        "id": "MJkujZooxfUt",
        "outputId": "6be45b83-d840-4236-cf30-ee5fc542d5ed"
      },
      "execution_count": 61,
      "outputs": [
        {
          "output_type": "execute_result",
          "data": {
            "text/plain": [
              "{1, 2, 3, 4, 5, 6}"
            ]
          },
          "metadata": {},
          "execution_count": 61
        }
      ]
    },
    {
      "cell_type": "code",
      "source": [
        "s.clear()\n",
        "r.clear()"
      ],
      "metadata": {
        "id": "plWUiggGxhjC"
      },
      "execution_count": 62,
      "outputs": []
    },
    {
      "cell_type": "code",
      "source": [
        "#Tuples"
      ],
      "metadata": {
        "id": "v7D7Qtj3xnEO"
      },
      "execution_count": 63,
      "outputs": []
    },
    {
      "cell_type": "code",
      "source": [
        "dir(tuple)"
      ],
      "metadata": {
        "colab": {
          "base_uri": "https://localhost:8080/"
        },
        "id": "yQ25AnQb2FFg",
        "outputId": "bad1a412-b27a-4243-832b-396af94a7844"
      },
      "execution_count": 95,
      "outputs": [
        {
          "output_type": "execute_result",
          "data": {
            "text/plain": [
              "['__add__',\n",
              " '__class__',\n",
              " '__contains__',\n",
              " '__delattr__',\n",
              " '__dir__',\n",
              " '__doc__',\n",
              " '__eq__',\n",
              " '__format__',\n",
              " '__ge__',\n",
              " '__getattribute__',\n",
              " '__getitem__',\n",
              " '__getnewargs__',\n",
              " '__gt__',\n",
              " '__hash__',\n",
              " '__init__',\n",
              " '__init_subclass__',\n",
              " '__iter__',\n",
              " '__le__',\n",
              " '__len__',\n",
              " '__lt__',\n",
              " '__mul__',\n",
              " '__ne__',\n",
              " '__new__',\n",
              " '__reduce__',\n",
              " '__reduce_ex__',\n",
              " '__repr__',\n",
              " '__rmul__',\n",
              " '__setattr__',\n",
              " '__sizeof__',\n",
              " '__str__',\n",
              " '__subclasshook__',\n",
              " 'count',\n",
              " 'index']"
            ]
          },
          "metadata": {},
          "execution_count": 95
        }
      ]
    },
    {
      "cell_type": "code",
      "source": [
        "t=(2,3,7)"
      ],
      "metadata": {
        "id": "4oJeFzh6xqJK"
      },
      "execution_count": 64,
      "outputs": []
    },
    {
      "cell_type": "markdown",
      "source": [
        "count() Returns the number of times a specified value occurs in a tuple"
      ],
      "metadata": {
        "id": "ZQmWsxcqx6c1"
      }
    },
    {
      "cell_type": "code",
      "source": [
        "t.count(3)"
      ],
      "metadata": {
        "colab": {
          "base_uri": "https://localhost:8080/"
        },
        "id": "cC7c8_kGx_C1",
        "outputId": "11b60390-6678-4a6d-ef25-1c187e4be046"
      },
      "execution_count": 66,
      "outputs": [
        {
          "output_type": "execute_result",
          "data": {
            "text/plain": [
              "1"
            ]
          },
          "metadata": {},
          "execution_count": 66
        }
      ]
    },
    {
      "cell_type": "markdown",
      "source": [
        "index() Searches the tuple for a specified value and returns the position of where it was found"
      ],
      "metadata": {
        "id": "tbLV3ocPyFTN"
      }
    },
    {
      "cell_type": "code",
      "source": [
        "t.index(7)"
      ],
      "metadata": {
        "colab": {
          "base_uri": "https://localhost:8080/"
        },
        "id": "tcVndRZmyLZ8",
        "outputId": "49692b8b-54e5-42ae-bdb3-67c6a19a9eab"
      },
      "execution_count": 68,
      "outputs": [
        {
          "output_type": "execute_result",
          "data": {
            "text/plain": [
              "2"
            ]
          },
          "metadata": {},
          "execution_count": 68
        }
      ]
    },
    {
      "cell_type": "code",
      "source": [
        "#Dictionary"
      ],
      "metadata": {
        "id": "sO5xMxMtx5ZM"
      },
      "execution_count": 69,
      "outputs": []
    },
    {
      "cell_type": "code",
      "source": [
        "dir(dict)"
      ],
      "metadata": {
        "colab": {
          "base_uri": "https://localhost:8080/"
        },
        "id": "YUxypOrD2KI3",
        "outputId": "25289fad-87b6-4798-f4f0-ad91c3dc61f1"
      },
      "execution_count": 97,
      "outputs": [
        {
          "output_type": "execute_result",
          "data": {
            "text/plain": [
              "['__class__',\n",
              " '__contains__',\n",
              " '__delattr__',\n",
              " '__delitem__',\n",
              " '__dir__',\n",
              " '__doc__',\n",
              " '__eq__',\n",
              " '__format__',\n",
              " '__ge__',\n",
              " '__getattribute__',\n",
              " '__getitem__',\n",
              " '__gt__',\n",
              " '__hash__',\n",
              " '__init__',\n",
              " '__init_subclass__',\n",
              " '__iter__',\n",
              " '__le__',\n",
              " '__len__',\n",
              " '__lt__',\n",
              " '__ne__',\n",
              " '__new__',\n",
              " '__reduce__',\n",
              " '__reduce_ex__',\n",
              " '__repr__',\n",
              " '__setattr__',\n",
              " '__setitem__',\n",
              " '__sizeof__',\n",
              " '__str__',\n",
              " '__subclasshook__',\n",
              " 'clear',\n",
              " 'copy',\n",
              " 'fromkeys',\n",
              " 'get',\n",
              " 'items',\n",
              " 'keys',\n",
              " 'pop',\n",
              " 'popitem',\n",
              " 'setdefault',\n",
              " 'update',\n",
              " 'values']"
            ]
          },
          "metadata": {},
          "execution_count": 97
        }
      ]
    },
    {
      "cell_type": "code",
      "source": [
        "d={'me':1,'you':2,'she':3}"
      ],
      "metadata": {
        "id": "iNA6CdYYyWCo"
      },
      "execution_count": 70,
      "outputs": []
    },
    {
      "cell_type": "code",
      "source": [
        "print (d)"
      ],
      "metadata": {
        "colab": {
          "base_uri": "https://localhost:8080/"
        },
        "id": "jrwArRNlyjpD",
        "outputId": "c45ee5d3-b9d2-49d7-8f06-81fce2bdad77"
      },
      "execution_count": 72,
      "outputs": [
        {
          "output_type": "stream",
          "name": "stdout",
          "text": [
            "{'me': 1, 'you': 2, 'she': 3}\n"
          ]
        }
      ]
    },
    {
      "cell_type": "markdown",
      "source": [
        "copy() Returns a copy of the dictionary"
      ],
      "metadata": {
        "id": "B_wy_tXbyq_N"
      }
    },
    {
      "cell_type": "code",
      "source": [
        "d.copy()"
      ],
      "metadata": {
        "colab": {
          "base_uri": "https://localhost:8080/"
        },
        "id": "UNgafFm5yvUX",
        "outputId": "e1394320-6e5c-4d65-b2d5-9ff6381ad61c"
      },
      "execution_count": 73,
      "outputs": [
        {
          "output_type": "execute_result",
          "data": {
            "text/plain": [
              "{'me': 1, 'you': 2, 'she': 3}"
            ]
          },
          "metadata": {},
          "execution_count": 73
        }
      ]
    },
    {
      "cell_type": "markdown",
      "source": [
        "fromkeys() Returns a dictionary with the specified keys and value"
      ],
      "metadata": {
        "id": "PPgduG1zyybO"
      }
    },
    {
      "cell_type": "code",
      "source": [
        "d.fromkeys('me',1)"
      ],
      "metadata": {
        "colab": {
          "base_uri": "https://localhost:8080/"
        },
        "id": "zTKxjYDJy5Nw",
        "outputId": "81d308ac-bb8e-404b-bcb4-35a416686d03"
      },
      "execution_count": 75,
      "outputs": [
        {
          "output_type": "execute_result",
          "data": {
            "text/plain": [
              "{'m': 1, 'e': 1}"
            ]
          },
          "metadata": {},
          "execution_count": 75
        }
      ]
    },
    {
      "cell_type": "markdown",
      "source": [
        "get() Returns the value of the specified key"
      ],
      "metadata": {
        "id": "XgJVzPPszUgE"
      }
    },
    {
      "cell_type": "code",
      "source": [
        "d.get('she')"
      ],
      "metadata": {
        "colab": {
          "base_uri": "https://localhost:8080/"
        },
        "id": "TQZBNXmEzZyP",
        "outputId": "6cda92d9-7670-4800-aa65-3d371cc424af"
      },
      "execution_count": 76,
      "outputs": [
        {
          "output_type": "execute_result",
          "data": {
            "text/plain": [
              "3"
            ]
          },
          "metadata": {},
          "execution_count": 76
        }
      ]
    },
    {
      "cell_type": "markdown",
      "source": [
        "items() Returns a list containing a tuple for each key value pair"
      ],
      "metadata": {
        "id": "mbTWTrirzf7K"
      }
    },
    {
      "cell_type": "code",
      "source": [
        "d.items()"
      ],
      "metadata": {
        "colab": {
          "base_uri": "https://localhost:8080/"
        },
        "id": "h8po1dNFzkXN",
        "outputId": "ff38f0ac-f3d1-43cc-9975-0878d9c6f6fd"
      },
      "execution_count": 77,
      "outputs": [
        {
          "output_type": "execute_result",
          "data": {
            "text/plain": [
              "dict_items([('me', 1), ('you', 2), ('she', 3)])"
            ]
          },
          "metadata": {},
          "execution_count": 77
        }
      ]
    },
    {
      "cell_type": "markdown",
      "source": [
        "keys() Returns a list containing the dictionary's keys"
      ],
      "metadata": {
        "id": "EorGGxXaznYi"
      }
    },
    {
      "cell_type": "code",
      "source": [
        "d.keys()"
      ],
      "metadata": {
        "colab": {
          "base_uri": "https://localhost:8080/"
        },
        "id": "wjhE50zJzrd8",
        "outputId": "58f79dbf-f3a2-4ec6-aafb-22547f5c6fa0"
      },
      "execution_count": 78,
      "outputs": [
        {
          "output_type": "execute_result",
          "data": {
            "text/plain": [
              "dict_keys(['me', 'you', 'she'])"
            ]
          },
          "metadata": {},
          "execution_count": 78
        }
      ]
    },
    {
      "cell_type": "markdown",
      "source": [
        "pop() Removes the element with the specified key"
      ],
      "metadata": {
        "id": "ZeBrzi_gzvaZ"
      }
    },
    {
      "cell_type": "code",
      "source": [
        "d.pop('me')"
      ],
      "metadata": {
        "colab": {
          "base_uri": "https://localhost:8080/"
        },
        "id": "h_PZplYrzzM0",
        "outputId": "cb4863a3-383a-405a-dcd6-8329628afff0"
      },
      "execution_count": 79,
      "outputs": [
        {
          "output_type": "execute_result",
          "data": {
            "text/plain": [
              "1"
            ]
          },
          "metadata": {},
          "execution_count": 79
        }
      ]
    },
    {
      "cell_type": "markdown",
      "source": [
        "popitem() Removes the last inserted key-value pair"
      ],
      "metadata": {
        "id": "_oSJ4H830fZK"
      }
    },
    {
      "cell_type": "code",
      "source": [
        "d.popitem()"
      ],
      "metadata": {
        "colab": {
          "base_uri": "https://localhost:8080/"
        },
        "id": "pgYjcYhs0kG5",
        "outputId": "02e0c861-cdd2-4754-8bb6-a69d46d40e4e"
      },
      "execution_count": 83,
      "outputs": [
        {
          "output_type": "execute_result",
          "data": {
            "text/plain": [
              "('she', 3)"
            ]
          },
          "metadata": {},
          "execution_count": 83
        }
      ]
    },
    {
      "cell_type": "markdown",
      "source": [
        "update() Updates the dictionary with the specified key-value pairs"
      ],
      "metadata": {
        "id": "BGYA0KrM0pEw"
      }
    },
    {
      "cell_type": "code",
      "source": [
        "d.update({'he':4})"
      ],
      "metadata": {
        "id": "v7fTE_Qq0zwS"
      },
      "execution_count": 86,
      "outputs": []
    },
    {
      "cell_type": "code",
      "source": [
        "d"
      ],
      "metadata": {
        "colab": {
          "base_uri": "https://localhost:8080/"
        },
        "id": "MgrMH_O_0DfB",
        "outputId": "71038b56-3f51-4c0c-f71e-e27b21d5a875"
      },
      "execution_count": 87,
      "outputs": [
        {
          "output_type": "execute_result",
          "data": {
            "text/plain": [
              "{'you': 2, 'he': 4}"
            ]
          },
          "metadata": {},
          "execution_count": 87
        }
      ]
    },
    {
      "cell_type": "markdown",
      "source": [
        "setdefault() Returns the value of the specified key. If the key does not exist: insert the key, with the specified value"
      ],
      "metadata": {
        "id": "2FbAPbal1Lbo"
      }
    },
    {
      "cell_type": "code",
      "source": [
        "d.setdefault('you')"
      ],
      "metadata": {
        "colab": {
          "base_uri": "https://localhost:8080/"
        },
        "id": "rBxG_8qG1Ord",
        "outputId": "bfe88a28-9cb8-4538-970a-149547e01935"
      },
      "execution_count": 89,
      "outputs": [
        {
          "output_type": "execute_result",
          "data": {
            "text/plain": [
              "2"
            ]
          },
          "metadata": {},
          "execution_count": 89
        }
      ]
    },
    {
      "cell_type": "markdown",
      "source": [
        "values() Returns a list of all the values in the dictionary"
      ],
      "metadata": {
        "id": "dGAkMQJW1dXS"
      }
    },
    {
      "cell_type": "code",
      "source": [
        "d.values()"
      ],
      "metadata": {
        "colab": {
          "base_uri": "https://localhost:8080/"
        },
        "id": "7Iy_wzSd1hwE",
        "outputId": "8b207f78-1ddf-42de-f326-c9d1b149832b"
      },
      "execution_count": 90,
      "outputs": [
        {
          "output_type": "execute_result",
          "data": {
            "text/plain": [
              "dict_values([2, 4])"
            ]
          },
          "metadata": {},
          "execution_count": 90
        }
      ]
    },
    {
      "cell_type": "markdown",
      "source": [
        "clear() Removes all the elements from the dictionary"
      ],
      "metadata": {
        "id": "Zu-V9gKh1kVv"
      }
    },
    {
      "cell_type": "code",
      "source": [
        "d.clear()"
      ],
      "metadata": {
        "id": "pnnqEs6d1odX"
      },
      "execution_count": 91,
      "outputs": []
    },
    {
      "cell_type": "code",
      "source": [
        "d"
      ],
      "metadata": {
        "colab": {
          "base_uri": "https://localhost:8080/"
        },
        "id": "tVQUAhZk1DVh",
        "outputId": "36ddfde5-3f46-4213-98b1-a3471e297502"
      },
      "execution_count": 92,
      "outputs": [
        {
          "output_type": "execute_result",
          "data": {
            "text/plain": [
              "{}"
            ]
          },
          "metadata": {},
          "execution_count": 92
        }
      ]
    },
    {
      "cell_type": "code",
      "source": [
        ""
      ],
      "metadata": {
        "id": "BwtsegFo1qtt"
      },
      "execution_count": null,
      "outputs": []
    }
  ]
}